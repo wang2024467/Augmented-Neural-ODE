{
 "cells": [
  {
   "cell_type": "code",
   "execution_count": 1,
   "metadata": {},
   "outputs": [],
   "source": [
    "import scanpy as sc\n",
    "import numpy as np\n",
    "import scipy.sparse\n",
    "from fuzzywuzzy import process\n",
    "import pandas as pd \n",
    "import os\n",
    "import glob\n",
    "import scanpy as sc\n",
    "import scipy.io\n",
    "import pandas as pd\n",
    "import numpy as np\n",
    "import matplotlib.pyplot as plt\n",
    "import seaborn as sns\n"
   ]
  },
  {
   "cell_type": "code",
   "execution_count": 2,
   "metadata": {},
   "outputs": [
    {
     "name": "stderr",
     "output_type": "stream",
     "text": [
      "Found local copy...\n",
      "Found local copy...\n",
      "Found local copy...\n",
      "These perturbations are not in the GO graph and their perturbation can thus not be predicted\n",
      "['RHOXF2BB+ctrl' 'LYL1+IER5L' 'ctrl+IER5L' 'KIAA1804+ctrl' 'IER5L+ctrl'\n",
      " 'RHOXF2BB+ZBTB25' 'RHOXF2BB+SET']\n",
      "Local copy of pyg dataset is detected. Loading...\n",
      "Done!\n",
      "Local copy of split is detected. Loading...\n",
      "Simulation split test composition:\n",
      "combo_seen0:9\n",
      "combo_seen1:43\n",
      "combo_seen2:19\n",
      "unseen_single:36\n",
      "Done!\n",
      "Creating dataloaders....\n"
     ]
    },
    {
     "name": "stdout",
     "output_type": "stream",
     "text": [
      "here1\n",
      "self.split: simulation\n",
      "splits: ['train', 'val', 'test']\n",
      "self.set2conditions keys: dict_keys(['test', 'train', 'val'])\n",
      "self.set2conditions: {'test': ['CBL+PTPN9', 'DUSP9+ctrl', 'MAP2K6+SPI1', 'UBASH3B+PTPN12', 'BCORL1+ctrl', 'MEIS1+ctrl', 'CBL+ctrl', 'KLF1+FOXA1', 'TBX3+TBX2', 'SLC4A1+ctrl', 'DUSP9+MAPK1', 'COL2A1+ctrl', 'CEBPE+KLF1', 'UBASH3B+OSR2', 'UBASH3B+ZBTB25', 'DUSP9+ETS2', 'ZNF318+FOXL2', 'UBASH3B+PTPN9', 'S1PR2+ctrl', 'CELF2+ctrl', 'JUN+CEBPA', 'CDKN1A+ctrl', 'ctrl+MEIS1', 'MAPK1+PRTG', 'MAP2K3+IKZF3', 'KLF1+COL2A1', 'PTPN12+OSR2', 'ETS2+CEBPE', 'POU3F2+FOXL2', 'DUSP9+PRTG', 'CKS1B+ctrl', 'BCL2L11+TGFBR2', 'AHR+KLF1', 'CEBPB+CEBPA', 'PRTG+ctrl', 'ETS2+CNN1', 'C3orf72+ctrl', 'CNN1+MAPK1', 'FOXL2+MEIS1', 'FOXL2+ctrl', 'FOSB+CEBPE', 'PTPN12+PTPN9', 'FOSB+CEBPB', 'ctrl+CDKN1A', 'BCL2L11+BAK1', 'FOXA3+HOXB9', 'ARID1A+ctrl', 'ctrl+COL2A1', 'CEBPE+CNN1', 'ZC3HAV1+HOXC13', 'CBL+CNN1', 'ZBTB10+PTPN12', 'CBL+UBASH3B', 'CEBPB+PTPN12', 'BCL2L11+ctrl', 'OSR2+ctrl', 'ctrl+SPI1', 'CEBPB+MAPK1', 'ETS2+MAPK1', 'DUSP9+IGDCC3', 'CEBPB+ctrl', 'CBL+PTPN12', 'CEBPB+OSR2', 'ctrl+PRTG', 'SGK1+S1PR2', 'DUSP9+KLF1', 'CDKN1B+ctrl', 'FEV+ISL2', 'JUN+ctrl', 'POU3F2+CBFA2T3', 'FOXA1+HOXB9', 'ZBTB10+ctrl', 'CEBPE+SPI1', 'PTPN13+ctrl', 'CBL+TGFBR2', 'FOXA1+FOXL2', 'FOXF1+FOXL2', 'ETS2+PRTG', 'PTPN9+ctrl', 'LYL1+CEBPB', 'DUSP9+SNAI1', 'ctrl+CEBPB', 'TGFBR2+PRTG', 'PRDM1+ctrl', 'FOSB+OSR2', 'FOXL2+HOXB9', 'ctrl+PTPN9', 'ctrl+OSR2', 'ZBTB10+ELMSAN1', 'JUN+CEBPB', 'ZBTB10+SNAI1', 'ctrl+FOXL2', 'CEBPE+CEBPB', 'PRDM1+CBFA2T3', 'FOXA3+FOXL2', 'CDKN1C+CDKN1B', 'CDKN1C+CDKN1A', 'SPI1+ctrl', 'EGR1+ctrl', 'ZBTB10+DLX2', 'CBL+UBASH3A', 'SNAI1+DLX2', 'IGDCC3+PRTG', 'CDKN1C+ctrl', 'ctrl+CDKN1B', 'CDKN1B+CDKN1A', 'C3orf72+FOXL2'], 'train': ['TSC22D1+ctrl', 'ctrl', 'CEBPE+RUNX1T1', 'MAML2+ctrl', 'ctrl+CEBPE', 'SGK1+TBX3', 'ctrl+FOXA1', 'FOXA3+FOXA1', 'ETS2+IGDCC3', 'GLB1L2+ctrl', 'MAP2K6+IKZF3', 'BAK1+ctrl', 'FEV+ctrl', 'MAP2K3+SLC38A2', 'ctrl+ETS2', 'ctrl+FEV', 'ctrl+SET', 'TBX3+ctrl', 'LHX1+ctrl', 'RREB1+ctrl', 'ZNF318+ctrl', 'ctrl+ZBTB25', 'MAP4K5+ctrl', 'UBASH3B+ctrl', 'SLC6A9+ctrl', 'MIDN+ctrl', 'DLX2+ctrl', 'CBFA2T3+ctrl', 'HES7+ctrl', 'SET+CEBPE', 'IGDCC3+ZBTB25', 'AHR+ctrl', 'FOXO4+ctrl', 'ctrl+CBFA2T3', 'ctrl+RUNX1T1', 'POU3F2+ctrl', 'ctrl+CNN1', 'IGDCC3+MAPK1', 'MAP2K3+ctrl', 'MAP4K3+ctrl', 'ZBTB25+ctrl', 'ZC3HAV1+CEBPE', 'UBASH3B+UBASH3A', 'MAP2K3+MAP2K6', 'PTPN1+ctrl', 'RUNX1T1+ctrl', 'PTPN12+ctrl', 'TP73+ctrl', 'ctrl+MAP7D1', 'FOSB+ctrl', 'MAPK1+ctrl', 'IRF1+ctrl', 'TMSB4X+BAK1', 'BPGM+SAMD1', 'IKZF3+ctrl', 'HOXB9+ctrl', 'ctrl+HOXC13', 'MAPK1+IKZF3', 'ctrl+UBASH3B', 'ctrl+HOXB9', 'ETS2+ctrl', 'CLDN6+ctrl', 'FOXA3+ctrl', 'CEBPE+ctrl', 'KIF18B+KIF2C', 'ctrl+SAMD1', 'COL1A1+ctrl', 'PTPN12+UBASH3A', 'FOXF1+ctrl', 'FEV+MAP7D1', 'PLK4+ctrl', 'BPGM+ctrl', 'LYL1+ctrl', 'ctrl+MAP2K6', 'SGK1+ctrl', 'MAPK1+TGFBR2', 'ctrl+DLX2', 'MAP2K6+ctrl', 'ctrl+TBX3', 'CNN1+ctrl', 'ctrl+CEBPA', 'HNF4A+ctrl', 'MAP7D1+ctrl', 'PTPN12+SNAI1', 'KMT2A+ctrl', 'CNN1+UBASH3A', 'IGDCC3+ctrl', 'ISL2+ctrl', 'TGFBR2+IGDCC3', 'TMSB4X+ctrl', 'KIF2C+ctrl', 'ctrl+CLDN6', 'ctrl+KIF2C', 'IRF1+SET', 'CSRNP1+ctrl', 'CEBPE+CEBPA', 'ctrl+UBASH3A', 'NCL+ctrl', 'ctrl+BAK1', 'ctrl+IKZF3', 'FOXF1+HOXB9', 'UBASH3B+CNN1', 'ZC3HAV1+ctrl', 'SET+ctrl', 'FOSB+UBASH3B', 'SNAI1+UBASH3B', 'ctrl+STIL', 'HOXC13+ctrl', 'ATL1+ctrl', 'CEBPE+PTPN12', 'CEBPA+ctrl', 'NIT1+ctrl', 'SAMD1+UBASH3B', 'TGFBR2+ctrl', 'SAMD1+TGFBR2', 'FOXA1+ctrl', 'SAMD1+ctrl', 'ctrl+MAPK1', 'UBASH3A+ctrl', 'AHR+FEV', 'ETS2+IKZF3', 'ctrl+ISL2', 'ctrl+SLC38A2', 'PTPN12+ZBTB25', 'ctrl+SNAI1', 'HOXA13+ctrl', 'ctrl+FOXF1', 'ctrl+PTPN12', 'SAMD1+PTPN12', 'HK2+ctrl', 'ctrl+IGDCC3', 'ctrl+TGFBR2', 'FOXA3+FOXF1', 'ZC3HAV1+CEBPA', 'KIF18B+ctrl', 'SNAI1+ctrl', 'FOXA1+FOXF1', 'PLK4+STIL', 'STIL+ctrl'], 'val': ['KLF1+MAP2K6', 'TGFBR2+ETS2', 'ctrl+ELMSAN1', 'KLF1+ctrl', 'ctrl+KLF1', 'KLF1+BAK1', 'ctrl+TBX2', 'C19orf26+ctrl', 'LHX1+ELMSAN1', 'ZBTB1+ctrl', 'ARRDC3+ctrl', 'SET+KLF1', 'MAP2K6+ELMSAN1', 'KLF1+CEBPA', 'SAMD1+ZBTB1', 'ctrl+ZBTB1', 'MAP2K3+ELMSAN1', 'ctrl+C19orf26', 'CNNM4+ctrl', 'TBX2+ctrl', 'KLF1+CLDN6', 'ELMSAN1+ctrl', 'SGK1+TBX2', 'ETS2+MAP7D1', 'KLF1+TGFBR2', 'FEV+CBFA2T3', 'CITED1+ctrl', 'FOSB+IKZF3', 'FOSB+PTPN12', 'BPGM+ZBTB1', 'TGFBR2+C19orf26']}\n"
     ]
    },
    {
     "name": "stderr",
     "output_type": "stream",
     "text": [
      "Done!\n"
     ]
    }
   ],
   "source": [
    "import sys\n",
    "sys.path.append('../')\n",
    "\n",
    "from gears import PertData\n",
    "\n",
    "pert_data = PertData('./data') # specific saved folder\n",
    "pert_data.load(data_name = 'norman') # specific dataset name\n",
    "pert_data.prepare_split(split = 'simulation', seed = 1) # get data split with seed\n",
    "pert_data.get_dataloader(batch_size = 32, test_batch_size = 128) # prepare data loader\n"
   ]
  },
  {
   "cell_type": "code",
   "execution_count": 3,
   "metadata": {},
   "outputs": [
    {
     "name": "stderr",
     "output_type": "stream",
     "text": [
      "Found local copy...\n",
      "Found local copy...\n",
      "Creating pyg object for each cell in the data...\n",
      "Creating dataset file...\n",
      "  0%|          | 0/26 [00:00<?, ?it/s]"
     ]
    },
    {
     "name": "stdout",
     "output_type": "stream",
     "text": [
      "Rel+ctrl\n"
     ]
    },
    {
     "name": "stderr",
     "output_type": "stream",
     "text": [
      "  4%|▍         | 1/26 [00:13<05:42, 13.68s/it]"
     ]
    },
    {
     "name": "stdout",
     "output_type": "stream",
     "text": [
      "Nfkb1+ctrl\n"
     ]
    },
    {
     "name": "stderr",
     "output_type": "stream",
     "text": [
      "  8%|▊         | 2/26 [00:28<05:42, 14.29s/it]"
     ]
    },
    {
     "name": "stdout",
     "output_type": "stream",
     "text": [
      "Egr2+ctrl\n"
     ]
    },
    {
     "name": "stderr",
     "output_type": "stream",
     "text": [
      " 15%|█▌        | 4/26 [00:32<02:10,  5.93s/it]"
     ]
    },
    {
     "name": "stdout",
     "output_type": "stream",
     "text": [
      "Runx1+ctrl\n"
     ]
    },
    {
     "name": "stderr",
     "output_type": "stream",
     "text": [
      " 19%|█▉        | 5/26 [00:36<01:50,  5.25s/it]"
     ]
    },
    {
     "name": "stdout",
     "output_type": "stream",
     "text": [
      "Maff+ctrl\n"
     ]
    },
    {
     "name": "stderr",
     "output_type": "stream",
     "text": [
      " 23%|██▎       | 6/26 [00:40<01:37,  4.86s/it]"
     ]
    },
    {
     "name": "stdout",
     "output_type": "stream",
     "text": [
      "Stat2+ctrl\n"
     ]
    },
    {
     "name": "stderr",
     "output_type": "stream",
     "text": [
      " 27%|██▋       | 7/26 [00:48<01:49,  5.79s/it]"
     ]
    },
    {
     "name": "stdout",
     "output_type": "stream",
     "text": [
      "Hif1a+ctrl\n"
     ]
    },
    {
     "name": "stderr",
     "output_type": "stream",
     "text": [
      " 31%|███       | 8/26 [00:49<01:18,  4.36s/it]"
     ]
    },
    {
     "name": "stdout",
     "output_type": "stream",
     "text": [
      "Stat1+ctrl\n"
     ]
    },
    {
     "name": "stderr",
     "output_type": "stream",
     "text": [
      " 35%|███▍      | 9/26 [01:00<01:48,  6.38s/it]"
     ]
    },
    {
     "name": "stdout",
     "output_type": "stream",
     "text": [
      "Rela+ctrl\n"
     ]
    },
    {
     "name": "stderr",
     "output_type": "stream",
     "text": [
      " 38%|███▊      | 10/26 [01:07<01:44,  6.51s/it]"
     ]
    },
    {
     "name": "stdout",
     "output_type": "stream",
     "text": [
      "E2f4+ctrl\n"
     ]
    },
    {
     "name": "stderr",
     "output_type": "stream",
     "text": [
      " 42%|████▏     | 11/26 [01:09<01:18,  5.25s/it]"
     ]
    },
    {
     "name": "stdout",
     "output_type": "stream",
     "text": [
      "Irf4+ctrl\n"
     ]
    },
    {
     "name": "stderr",
     "output_type": "stream",
     "text": [
      " 46%|████▌     | 12/26 [01:12<01:03,  4.54s/it]"
     ]
    },
    {
     "name": "stdout",
     "output_type": "stream",
     "text": [
      "Irf2+ctrl\n"
     ]
    },
    {
     "name": "stderr",
     "output_type": "stream",
     "text": [
      " 50%|█████     | 13/26 [01:15<00:53,  4.13s/it]"
     ]
    },
    {
     "name": "stdout",
     "output_type": "stream",
     "text": [
      "Relb+ctrl\n"
     ]
    },
    {
     "name": "stderr",
     "output_type": "stream",
     "text": [
      " 54%|█████▍    | 14/26 [01:17<00:42,  3.50s/it]"
     ]
    },
    {
     "name": "stdout",
     "output_type": "stream",
     "text": [
      "Stat3+ctrl\n"
     ]
    },
    {
     "name": "stderr",
     "output_type": "stream",
     "text": [
      " 58%|█████▊    | 15/26 [01:25<00:52,  4.78s/it]"
     ]
    },
    {
     "name": "stdout",
     "output_type": "stream",
     "text": [
      "Spi1+ctrl\n"
     ]
    },
    {
     "name": "stderr",
     "output_type": "stream",
     "text": [
      " 62%|██████▏   | 16/26 [01:31<00:53,  5.31s/it]"
     ]
    },
    {
     "name": "stdout",
     "output_type": "stream",
     "text": [
      "Ctcf+ctrl\n"
     ]
    },
    {
     "name": "stderr",
     "output_type": "stream",
     "text": [
      " 65%|██████▌   | 17/26 [01:33<00:36,  4.10s/it]"
     ]
    },
    {
     "name": "stdout",
     "output_type": "stream",
     "text": [
      "E2f1+ctrl\n"
     ]
    },
    {
     "name": "stderr",
     "output_type": "stream",
     "text": [
      " 69%|██████▉   | 18/26 [01:34<00:26,  3.27s/it]"
     ]
    },
    {
     "name": "stdout",
     "output_type": "stream",
     "text": [
      "Cebpb+ctrl\n"
     ]
    },
    {
     "name": "stderr",
     "output_type": "stream",
     "text": [
      " 73%|███████▎  | 19/26 [01:35<00:18,  2.66s/it]"
     ]
    },
    {
     "name": "stdout",
     "output_type": "stream",
     "text": [
      "Irf1+ctrl\n"
     ]
    },
    {
     "name": "stderr",
     "output_type": "stream",
     "text": [
      " 77%|███████▋  | 20/26 [01:37<00:14,  2.45s/it]"
     ]
    },
    {
     "name": "stdout",
     "output_type": "stream",
     "text": [
      "MouseNTC_100_A+ctrl\n"
     ]
    },
    {
     "name": "stderr",
     "output_type": "stream",
     "text": [
      " 81%|████████  | 21/26 [01:42<00:15,  3.07s/it]"
     ]
    },
    {
     "name": "stdout",
     "output_type": "stream",
     "text": [
      "Ahr+ctrl\n"
     ]
    },
    {
     "name": "stderr",
     "output_type": "stream",
     "text": [
      " 85%|████████▍ | 22/26 [01:43<00:09,  2.49s/it]"
     ]
    },
    {
     "name": "stdout",
     "output_type": "stream",
     "text": [
      "Junb+ctrl\n"
     ]
    },
    {
     "name": "stderr",
     "output_type": "stream",
     "text": [
      " 88%|████████▊ | 23/26 [01:44<00:06,  2.11s/it]"
     ]
    },
    {
     "name": "stdout",
     "output_type": "stream",
     "text": [
      "Atf3+ctrl\n"
     ]
    },
    {
     "name": "stderr",
     "output_type": "stream",
     "text": [
      " 92%|█████████▏| 24/26 [01:45<00:03,  1.74s/it]"
     ]
    },
    {
     "name": "stdout",
     "output_type": "stream",
     "text": [
      "Ets2+ctrl\n"
     ]
    },
    {
     "name": "stderr",
     "output_type": "stream",
     "text": [
      " 96%|█████████▌| 25/26 [01:47<00:01,  1.76s/it]"
     ]
    },
    {
     "name": "stdout",
     "output_type": "stream",
     "text": [
      "Egr1+ctrl\n"
     ]
    },
    {
     "name": "stderr",
     "output_type": "stream",
     "text": [
      "100%|██████████| 26/26 [01:47<00:00,  4.14s/it]\n",
      "Done!\n",
      "Saving new dataset pyg object at ./data\\dixit\\data_pyg\\cell_graphs.pkl\n",
      "Done!\n",
      "Found local copy...\n",
      "These perturbations are not in the GO graph and their perturbation can thus not be predicted\n",
      "['Rel+ctrl' 'Nfkb1+ctrl' 'Egr2+ctrl' 'Runx1+ctrl' 'Maff+ctrl' 'Stat2+ctrl'\n",
      " 'Hif1a+ctrl' 'Stat1+ctrl' 'Rela+ctrl' 'E2f4+ctrl' 'Irf4+ctrl' 'Irf2+ctrl'\n",
      " 'Relb+ctrl' 'Stat3+ctrl' 'Spi1+ctrl' 'Ctcf+ctrl' 'E2f1+ctrl' 'Cebpb+ctrl'\n",
      " 'Irf1+ctrl' 'MouseNTC_100_A+ctrl' 'Ahr+ctrl' 'Junb+ctrl' 'Atf3+ctrl'\n",
      " 'Ets2+ctrl' 'Egr1+ctrl']\n",
      "Local copy of pyg dataset is detected. Loading...\n",
      "Done!\n",
      "Local copy of split is detected. Loading...\n",
      "Done!\n",
      "Creating dataloaders....\n",
      "Dataloaders created...\n"
     ]
    },
    {
     "name": "stdout",
     "output_type": "stream",
     "text": [
      "here1\n"
     ]
    },
    {
     "data": {
      "text/plain": [
       "{'test_loader': <torch_geometric.deprecation.DataLoader at 0x26a31c002d0>}"
      ]
     },
     "execution_count": 3,
     "metadata": {},
     "output_type": "execute_result"
    }
   ],
   "source": [
    "adata = sc.read_h5ad(r\"C:\\Users\\W\\Desktop\\Assignments\\Data Science\\project\\repreduce 1\\data_visual\\methods\\adata1(2).h5ad\")\n",
    "adata.obs[\"condition\"] = adata.obs[\"condition\"].replace(\"control+ctrl\", \"ctrl\")\n",
    "adata.obs.index.name = None\n",
    "\n",
    "import sys\n",
    "sys.path.append('../')\n",
    "\n",
    "import importlib\n",
    "import gears\n",
    "\n",
    "importlib.reload(gears.pertdata)\n",
    "from gears.pertdata import PertData\n",
    "\n",
    "\n",
    "pert_data = PertData('./data') # specific saved folder\n",
    "pert_data.new_data_process(dataset_name = 'dixit', adata = adata) # specific dataset name and adata object\n",
    "pert_data.load(data_path = './data/dixit') # load the processed data, the path is saved folder + dataset_name\n",
    "pert_data.prepare_split(split = 'no_split', seed = 1) # get data split with seed\n",
    "pert_data.get_dataloader(batch_size = 32, test_batch_size = 128) # prepare data loader"
   ]
  },
  {
   "cell_type": "code",
   "execution_count": 5,
   "metadata": {},
   "outputs": [
    {
     "name": "stdout",
     "output_type": "stream",
     "text": [
      "<gears.pertdata.PertData object at 0x000001A5ED83AC50>\n"
     ]
    }
   ],
   "source": [
    "print(pert_data)"
   ]
  },
  {
   "cell_type": "code",
   "execution_count": 4,
   "metadata": {},
   "outputs": [
    {
     "name": "stderr",
     "output_type": "stream",
     "text": [
      "Found local copy...\n",
      "Found local copy...\n",
      "Found local copy...\n",
      "These perturbations are not in the GO graph and their perturbation can thus not be predicted\n",
      "['RHOXF2BB+ctrl' 'LYL1+IER5L' 'ctrl+IER5L' 'KIAA1804+ctrl' 'IER5L+ctrl'\n",
      " 'RHOXF2BB+ZBTB25' 'RHOXF2BB+SET']\n",
      "Local copy of pyg dataset is detected. Loading...\n",
      "Done!\n",
      "Local copy of split is detected. Loading...\n",
      "Simulation split test composition:\n",
      "combo_seen0:9\n",
      "combo_seen1:43\n",
      "combo_seen2:19\n",
      "unseen_single:36\n",
      "Done!\n",
      "Creating dataloaders....\n",
      "Done!\n"
     ]
    },
    {
     "name": "stdout",
     "output_type": "stream",
     "text": [
      "here1\n",
      "self.split: simulation\n",
      "splits: ['train', 'val', 'test']\n",
      "self.set2conditions keys: dict_keys(['test', 'train', 'val'])\n",
      "self.set2conditions: {'test': ['CBL+PTPN9', 'DUSP9+ctrl', 'MAP2K6+SPI1', 'UBASH3B+PTPN12', 'BCORL1+ctrl', 'MEIS1+ctrl', 'CBL+ctrl', 'KLF1+FOXA1', 'TBX3+TBX2', 'SLC4A1+ctrl', 'DUSP9+MAPK1', 'COL2A1+ctrl', 'CEBPE+KLF1', 'UBASH3B+OSR2', 'UBASH3B+ZBTB25', 'DUSP9+ETS2', 'ZNF318+FOXL2', 'UBASH3B+PTPN9', 'S1PR2+ctrl', 'CELF2+ctrl', 'JUN+CEBPA', 'CDKN1A+ctrl', 'ctrl+MEIS1', 'MAPK1+PRTG', 'MAP2K3+IKZF3', 'KLF1+COL2A1', 'PTPN12+OSR2', 'ETS2+CEBPE', 'POU3F2+FOXL2', 'DUSP9+PRTG', 'CKS1B+ctrl', 'BCL2L11+TGFBR2', 'AHR+KLF1', 'CEBPB+CEBPA', 'PRTG+ctrl', 'ETS2+CNN1', 'C3orf72+ctrl', 'CNN1+MAPK1', 'FOXL2+MEIS1', 'FOXL2+ctrl', 'FOSB+CEBPE', 'PTPN12+PTPN9', 'FOSB+CEBPB', 'ctrl+CDKN1A', 'BCL2L11+BAK1', 'FOXA3+HOXB9', 'ARID1A+ctrl', 'ctrl+COL2A1', 'CEBPE+CNN1', 'ZC3HAV1+HOXC13', 'CBL+CNN1', 'ZBTB10+PTPN12', 'CBL+UBASH3B', 'CEBPB+PTPN12', 'BCL2L11+ctrl', 'OSR2+ctrl', 'ctrl+SPI1', 'CEBPB+MAPK1', 'ETS2+MAPK1', 'DUSP9+IGDCC3', 'CEBPB+ctrl', 'CBL+PTPN12', 'CEBPB+OSR2', 'ctrl+PRTG', 'SGK1+S1PR2', 'DUSP9+KLF1', 'CDKN1B+ctrl', 'FEV+ISL2', 'JUN+ctrl', 'POU3F2+CBFA2T3', 'FOXA1+HOXB9', 'ZBTB10+ctrl', 'CEBPE+SPI1', 'PTPN13+ctrl', 'CBL+TGFBR2', 'FOXA1+FOXL2', 'FOXF1+FOXL2', 'ETS2+PRTG', 'PTPN9+ctrl', 'LYL1+CEBPB', 'DUSP9+SNAI1', 'ctrl+CEBPB', 'TGFBR2+PRTG', 'PRDM1+ctrl', 'FOSB+OSR2', 'FOXL2+HOXB9', 'ctrl+PTPN9', 'ctrl+OSR2', 'ZBTB10+ELMSAN1', 'JUN+CEBPB', 'ZBTB10+SNAI1', 'ctrl+FOXL2', 'CEBPE+CEBPB', 'PRDM1+CBFA2T3', 'FOXA3+FOXL2', 'CDKN1C+CDKN1B', 'CDKN1C+CDKN1A', 'SPI1+ctrl', 'EGR1+ctrl', 'ZBTB10+DLX2', 'CBL+UBASH3A', 'SNAI1+DLX2', 'IGDCC3+PRTG', 'CDKN1C+ctrl', 'ctrl+CDKN1B', 'CDKN1B+CDKN1A', 'C3orf72+FOXL2'], 'train': ['TSC22D1+ctrl', 'ctrl', 'CEBPE+RUNX1T1', 'MAML2+ctrl', 'ctrl+CEBPE', 'SGK1+TBX3', 'ctrl+FOXA1', 'FOXA3+FOXA1', 'ETS2+IGDCC3', 'GLB1L2+ctrl', 'MAP2K6+IKZF3', 'BAK1+ctrl', 'FEV+ctrl', 'MAP2K3+SLC38A2', 'ctrl+ETS2', 'ctrl+FEV', 'ctrl+SET', 'TBX3+ctrl', 'LHX1+ctrl', 'RREB1+ctrl', 'ZNF318+ctrl', 'ctrl+ZBTB25', 'MAP4K5+ctrl', 'UBASH3B+ctrl', 'SLC6A9+ctrl', 'MIDN+ctrl', 'DLX2+ctrl', 'CBFA2T3+ctrl', 'HES7+ctrl', 'SET+CEBPE', 'IGDCC3+ZBTB25', 'AHR+ctrl', 'FOXO4+ctrl', 'ctrl+CBFA2T3', 'ctrl+RUNX1T1', 'POU3F2+ctrl', 'ctrl+CNN1', 'IGDCC3+MAPK1', 'MAP2K3+ctrl', 'MAP4K3+ctrl', 'ZBTB25+ctrl', 'ZC3HAV1+CEBPE', 'UBASH3B+UBASH3A', 'MAP2K3+MAP2K6', 'PTPN1+ctrl', 'RUNX1T1+ctrl', 'PTPN12+ctrl', 'TP73+ctrl', 'ctrl+MAP7D1', 'FOSB+ctrl', 'MAPK1+ctrl', 'IRF1+ctrl', 'TMSB4X+BAK1', 'BPGM+SAMD1', 'IKZF3+ctrl', 'HOXB9+ctrl', 'ctrl+HOXC13', 'MAPK1+IKZF3', 'ctrl+UBASH3B', 'ctrl+HOXB9', 'ETS2+ctrl', 'CLDN6+ctrl', 'FOXA3+ctrl', 'CEBPE+ctrl', 'KIF18B+KIF2C', 'ctrl+SAMD1', 'COL1A1+ctrl', 'PTPN12+UBASH3A', 'FOXF1+ctrl', 'FEV+MAP7D1', 'PLK4+ctrl', 'BPGM+ctrl', 'LYL1+ctrl', 'ctrl+MAP2K6', 'SGK1+ctrl', 'MAPK1+TGFBR2', 'ctrl+DLX2', 'MAP2K6+ctrl', 'ctrl+TBX3', 'CNN1+ctrl', 'ctrl+CEBPA', 'HNF4A+ctrl', 'MAP7D1+ctrl', 'PTPN12+SNAI1', 'KMT2A+ctrl', 'CNN1+UBASH3A', 'IGDCC3+ctrl', 'ISL2+ctrl', 'TGFBR2+IGDCC3', 'TMSB4X+ctrl', 'KIF2C+ctrl', 'ctrl+CLDN6', 'ctrl+KIF2C', 'IRF1+SET', 'CSRNP1+ctrl', 'CEBPE+CEBPA', 'ctrl+UBASH3A', 'NCL+ctrl', 'ctrl+BAK1', 'ctrl+IKZF3', 'FOXF1+HOXB9', 'UBASH3B+CNN1', 'ZC3HAV1+ctrl', 'SET+ctrl', 'FOSB+UBASH3B', 'SNAI1+UBASH3B', 'ctrl+STIL', 'HOXC13+ctrl', 'ATL1+ctrl', 'CEBPE+PTPN12', 'CEBPA+ctrl', 'NIT1+ctrl', 'SAMD1+UBASH3B', 'TGFBR2+ctrl', 'SAMD1+TGFBR2', 'FOXA1+ctrl', 'SAMD1+ctrl', 'ctrl+MAPK1', 'UBASH3A+ctrl', 'AHR+FEV', 'ETS2+IKZF3', 'ctrl+ISL2', 'ctrl+SLC38A2', 'PTPN12+ZBTB25', 'ctrl+SNAI1', 'HOXA13+ctrl', 'ctrl+FOXF1', 'ctrl+PTPN12', 'SAMD1+PTPN12', 'HK2+ctrl', 'ctrl+IGDCC3', 'ctrl+TGFBR2', 'FOXA3+FOXF1', 'ZC3HAV1+CEBPA', 'KIF18B+ctrl', 'SNAI1+ctrl', 'FOXA1+FOXF1', 'PLK4+STIL', 'STIL+ctrl'], 'val': ['KLF1+MAP2K6', 'TGFBR2+ETS2', 'ctrl+ELMSAN1', 'KLF1+ctrl', 'ctrl+KLF1', 'KLF1+BAK1', 'ctrl+TBX2', 'C19orf26+ctrl', 'LHX1+ELMSAN1', 'ZBTB1+ctrl', 'ARRDC3+ctrl', 'SET+KLF1', 'MAP2K6+ELMSAN1', 'KLF1+CEBPA', 'SAMD1+ZBTB1', 'ctrl+ZBTB1', 'MAP2K3+ELMSAN1', 'ctrl+C19orf26', 'CNNM4+ctrl', 'TBX2+ctrl', 'KLF1+CLDN6', 'ELMSAN1+ctrl', 'SGK1+TBX2', 'ETS2+MAP7D1', 'KLF1+TGFBR2', 'FEV+CBFA2T3', 'CITED1+ctrl', 'FOSB+IKZF3', 'FOSB+PTPN12', 'BPGM+ZBTB1', 'TGFBR2+C19orf26']}\n"
     ]
    }
   ],
   "source": [
    "from gears import PertData, GEARS\n",
    "import importlib\n",
    "import gears\n",
    "\n",
    "importlib.reload(gears.pertdata)\n",
    "from gears.pertdata import PertData\n",
    "\n",
    "\n",
    "pert_data = PertData('./data')\n",
    "pert_data.load(data_name = 'norman')\n",
    "pert_data.prepare_split(split = 'simulation', seed = 1)\n",
    "pert_data.get_dataloader(batch_size = 32, test_batch_size = 128)\n"
   ]
  },
  {
   "cell_type": "code",
   "execution_count": 5,
   "metadata": {},
   "outputs": [
    {
     "name": "stderr",
     "output_type": "stream",
     "text": [
      "Found local copy...\n"
     ]
    }
   ],
   "source": [
    "from gears import PertData, GEARS\n",
    "gears_model = GEARS(pert_data, device = 'cpu', \n",
    "                        weight_bias_track = False, \n",
    "                        proj_name = 'pertnet', \n",
    "                        exp_name = 'pertnet')\n",
    "gears_model.model_initialize(hidden_size = 64)\n"
   ]
  },
  {
   "cell_type": "code",
   "execution_count": 8,
   "metadata": {},
   "outputs": [
    {
     "data": {
      "text/plain": [
       "{'hidden_size': 'hidden dimension, default 64',\n",
       " 'num_go_gnn_layers': 'number of GNN layers for GO graph, default 1',\n",
       " 'num_gene_gnn_layers': 'number of GNN layers for co-expression gene graph, default 1',\n",
       " 'decoder_hidden_size': 'hidden dimension for gene-specific decoder, default 16',\n",
       " 'num_similar_genes_go_graph': 'number of maximum similar K genes in the GO graph, default 20',\n",
       " 'num_similar_genes_co_express_graph': 'number of maximum similar K genes in the co expression graph, default 20',\n",
       " 'coexpress_threshold': 'pearson correlation threshold when constructing coexpression graph, default 0.4',\n",
       " 'uncertainty': 'whether or not to turn on uncertainty mode, default False',\n",
       " 'uncertainty_reg': 'regularization term to balance uncertainty loss and prediction loss, default 1',\n",
       " 'direction_lambda': 'regularization term to balance direction loss and prediction loss, default 1'}"
      ]
     },
     "execution_count": 8,
     "metadata": {},
     "output_type": "execute_result"
    }
   ],
   "source": [
    "gears_model.tunable_parameters()\n"
   ]
  },
  {
   "cell_type": "code",
   "execution_count": 9,
   "metadata": {},
   "outputs": [
    {
     "name": "stderr",
     "output_type": "stream",
     "text": [
      "Start Training...\n",
      "Epoch 1 Step 1 Train Loss: 0.5344\n",
      "Epoch 1 Step 51 Train Loss: 0.4274\n",
      "Epoch 1 Step 101 Train Loss: 0.4229\n",
      "Epoch 1 Step 151 Train Loss: 0.4513\n",
      "Epoch 1 Step 201 Train Loss: 0.5530\n",
      "Epoch 1 Step 251 Train Loss: 0.5304\n",
      "Epoch 1 Step 301 Train Loss: 0.4778\n",
      "Epoch 1 Step 351 Train Loss: 0.4716\n",
      "Epoch 1 Step 401 Train Loss: 0.4330\n",
      "Epoch 1 Step 451 Train Loss: 0.4759\n",
      "Epoch 1 Step 501 Train Loss: 0.4440\n",
      "Epoch 1 Step 551 Train Loss: 0.5460\n",
      "Epoch 1 Step 601 Train Loss: 0.4472\n",
      "Epoch 1 Step 651 Train Loss: 0.4527\n",
      "Epoch 1 Step 701 Train Loss: 0.4492\n",
      "Epoch 1 Step 751 Train Loss: 0.6057\n",
      "Epoch 1 Step 801 Train Loss: 0.5223\n",
      "Epoch 1 Step 851 Train Loss: 0.4917\n",
      "Epoch 1 Step 901 Train Loss: 0.4933\n",
      "Epoch 1 Step 951 Train Loss: 0.4593\n",
      "Epoch 1 Step 1001 Train Loss: 0.4960\n",
      "Epoch 1 Step 1051 Train Loss: 0.4533\n",
      "Epoch 1 Step 1101 Train Loss: 0.5253\n",
      "Epoch 1 Step 1151 Train Loss: 0.4743\n",
      "Epoch 1 Step 1201 Train Loss: 0.5004\n",
      "Epoch 1 Step 1251 Train Loss: 0.4488\n",
      "Epoch 1 Step 1301 Train Loss: 0.4863\n",
      "Epoch 1 Step 1351 Train Loss: 0.5762\n",
      "Epoch 1 Step 1401 Train Loss: 0.4131\n",
      "Epoch 1 Step 1451 Train Loss: 0.5986\n",
      "Epoch 1 Step 1501 Train Loss: 0.4116\n",
      "Epoch 1 Step 1551 Train Loss: 0.4493\n",
      "Epoch 1: Train Overall MSE: 0.0046 Validation Overall MSE: 0.0043. \n",
      "Train Top 20 DE MSE: 0.1577 Validation Top 20 DE MSE: 0.3694. \n",
      "Done!\n",
      "Start Testing...\n",
      "Best performing model: Test Top 20 DE MSE: 0.2677\n",
      "Start doing subgroup analysis for simulation split...\n",
      "test_combo_seen0_mse: 0.0062189973\n",
      "test_combo_seen0_pearson: 0.9810688388186443\n",
      "test_combo_seen0_mse_de: 0.2517762\n",
      "test_combo_seen0_pearson_de: 0.7306116659989735\n",
      "test_combo_seen1_mse: 0.0074823257\n",
      "test_combo_seen1_pearson: 0.9784983880937471\n",
      "test_combo_seen1_mse_de: 0.2899295\n",
      "test_combo_seen1_pearson_de: 0.8385711605330449\n",
      "test_combo_seen2_mse: 0.005501513\n",
      "test_combo_seen2_pearson: 0.983854777462233\n",
      "test_combo_seen2_mse_de: 0.27456206\n",
      "test_combo_seen2_pearson_de: 0.9089946599755613\n",
      "test_unseen_single_mse: 0.004797189\n",
      "test_unseen_single_pearson: 0.9859844076240092\n",
      "test_unseen_single_mse_de: 0.24163993\n",
      "test_unseen_single_pearson_de: 0.8677672673109605\n",
      "test_combo_seen0_pearson_delta: 0.44483080368884775\n",
      "test_combo_seen0_frac_opposite_direction_top20_non_dropout: 0.20555555555555557\n",
      "test_combo_seen0_frac_sigma_below_1_non_dropout: 0.7111111111111111\n",
      "test_combo_seen0_mse_top20_de_non_dropout: 0.39649332\n",
      "test_combo_seen1_pearson_delta: 0.39831387124951084\n",
      "test_combo_seen1_frac_opposite_direction_top20_non_dropout: 0.2709302325581395\n",
      "test_combo_seen1_frac_sigma_below_1_non_dropout: 0.6767441860465117\n",
      "test_combo_seen1_mse_top20_de_non_dropout: 0.38490176\n",
      "test_combo_seen2_pearson_delta: 0.49884599539020824\n",
      "test_combo_seen2_frac_opposite_direction_top20_non_dropout: 0.1763157894736842\n",
      "test_combo_seen2_frac_sigma_below_1_non_dropout: 0.8026315789473685\n",
      "test_combo_seen2_mse_top20_de_non_dropout: 0.29108125\n",
      "test_unseen_single_pearson_delta: 0.22135994342646886\n",
      "test_unseen_single_frac_opposite_direction_top20_non_dropout: 0.3861111111111111\n",
      "test_unseen_single_frac_sigma_below_1_non_dropout: 0.8222222222222222\n",
      "test_unseen_single_mse_top20_de_non_dropout: 0.26968372\n",
      "Done!\n"
     ]
    }
   ],
   "source": [
    "gears_model.train(epochs = 1, lr = 1e-3)"
   ]
  },
  {
   "cell_type": "code",
   "execution_count": 10,
   "metadata": {},
   "outputs": [],
   "source": [
    "# gears_model.save_model('test_model')\n",
    "gears_model.load_pretrained('test_model')"
   ]
  },
  {
   "cell_type": "code",
   "execution_count": 11,
   "metadata": {},
   "outputs": [
    {
     "data": {
      "text/plain": [
       "{'FEV': array([ 2.6069322e-11, -5.0595412e-03, -6.7184575e-02, ...,\n",
       "         3.5340991e+00,  6.5196767e-03, -6.7767049e-18], dtype=float32),\n",
       " 'FEV_AHR': array([ 3.3217068e-11,  9.8111751e-03, -2.6183331e-02, ...,\n",
       "         3.3887739e+00,  5.0045624e-03, -3.6566739e-18], dtype=float32)}"
      ]
     },
     "execution_count": 11,
     "metadata": {},
     "output_type": "execute_result"
    }
   ],
   "source": [
    "gears_model.predict([['FEV'], ['FEV', 'AHR']])"
   ]
  },
  {
   "cell_type": "code",
   "execution_count": 12,
   "metadata": {},
   "outputs": [
    {
     "data": {
      "text/plain": [
       "['RP11-34P13.8', 'RP11-54O7.3', 'SAMD11', 'PERM1', 'HES4']"
      ]
     },
     "execution_count": 12,
     "metadata": {},
     "output_type": "execute_result"
    }
   ],
   "source": [
    "gears_model.gene_list[:5]"
   ]
  },
  {
   "cell_type": "code",
   "execution_count": 13,
   "metadata": {},
   "outputs": [
    {
     "data": {
      "text/plain": [
       "{'CNN1_CBL': array([ 1.8026762e-11,  3.3111755e-02,  7.4564904e-02, ...,\n",
       "         3.6506951e+00, -2.8033683e-03, -5.1464907e-18], dtype=float32)}"
      ]
     },
     "execution_count": 13,
     "metadata": {},
     "output_type": "execute_result"
    }
   ],
   "source": [
    "gears_model.predict([['CNN1', 'CBL']])"
   ]
  },
  {
   "cell_type": "code",
   "execution_count": 14,
   "metadata": {},
   "outputs": [
    {
     "name": "stderr",
     "output_type": "stream",
     "text": [
      "Downloading...\n",
      "100%|██████████| 45.0k/45.0k [00:00<00:00, 3.65MiB/s]\n"
     ]
    },
    {
     "data": {
      "text/plain": [
       "{'ts': TheilSenRegressor(fit_intercept=False, max_iter=1000,\n",
       "                   max_subpopulation=100000.0, random_state=1000),\n",
       " 'c1': 0.9701259193879215,\n",
       " 'c2': -0.08822684145390917,\n",
       " 'mag': 0.9741294960225736,\n",
       " 'dcor': 0.7731301512753532,\n",
       " 'dcor_singles': 0.2851765759997791,\n",
       " 'dcor_first': 0.8500109081411058,\n",
       " 'dcor_second': 0.310882736181219,\n",
       " 'corr_fit': 0.9329162213513513,\n",
       " 'dominance': nan,\n",
       " 'eq_contr': 0.36573970193052036}"
      ]
     },
     "execution_count": 14,
     "metadata": {},
     "output_type": "execute_result"
    }
   ],
   "source": [
    "## If reproducing results from paper, you can use the same gene set, \n",
    "## although the function works even if GI_genes_file is set to None\n",
    "from gears import PertData, GEARS\n",
    "from gears.utils import dataverse_download\n",
    "from zipfile import ZipFile \n",
    "\n",
    "dataverse_download('https://dataverse.harvard.edu/api/access/datafile/6979958', \n",
    "                   'genes_with_hi_mean.npy')\n",
    "\n",
    "gears_model.GI_predict(['CNN1', 'CBL'], GI_genes_file='./genes_with_hi_mean.npy')"
   ]
  },
  {
   "cell_type": "code",
   "execution_count": 15,
   "metadata": {},
   "outputs": [
    {
     "data": {
      "image/png": "[encoded data removed]",
      "text/plain": [
       "<Figure size 1650x450 with 1 Axes>"
      ]
     },
     "metadata": {},
     "output_type": "display_data"
    }
   ],
   "source": [
    "import sys\n",
    "sys.path.append('../')\n",
    "\n",
    "from gears import PertData, GEARS\n",
    "\n",
    "# gears_model.load_pretrained('../gears_seed1_norman')\n",
    "gears_model.plot_perturbation('FOSB+CEBPB')"
   ]
  },
  {
   "cell_type": "code",
   "execution_count": 16,
   "metadata": {},
   "outputs": [],
   "source": [
    "import sys\n",
    "sys.path.append('../')\n",
    "\n",
    "import pandas as pd\n",
    "import numpy as np\n",
    "from scipy.stats import pearsonr\n",
    "\n",
    "from gears import PertData\n",
    "from gears.inference import evaluate, compute_metrics, deeper_analysis\n",
    "\n",
    "gears_model.load_pretrained('test_model')\n",
    "test_res = evaluate(gears_model.dataloader['test_loader'], gears_model.model, gears_model.config['uncertainty'], gears_model.device)\n",
    "test_metrics, test_pert_res = compute_metrics(test_res)\n",
    "out = deeper_analysis(gears_model.adata, test_res)"
   ]
  },
  {
   "cell_type": "code",
   "execution_count": 17,
   "metadata": {},
   "outputs": [],
   "source": [
    "test_res\n",
    "import numpy as np\n",
    "import pandas as pd\n",
    "\n",
    "# Get prediction error\n",
    "errors = (test_res['pred'] - test_res['truth']) ** 2  # squared error\n",
    "\n",
    "# Compute variance along features per sample\n",
    "# This gives one value per row (cell), like a scalar uncertainty estimate\n",
    "logvar_est = np.log1p(np.var(errors, axis=1))  # log1p for numerical stability\n",
    "\n",
    "# OR: if you want full-dimensional (feature-wise) logvars:\n",
    "# logvar_est = np.log1p(errors)  # element-wise log error\n",
    "\n",
    "# Add it to the dict\n",
    "test_res['logvar'] = logvar_est  # shape (n_samples,)\n"
   ]
  },
  {
   "cell_type": "code",
   "execution_count": 18,
   "metadata": {},
   "outputs": [
    {
     "name": "stdout",
     "output_type": "stream",
     "text": [
      "pert2unc (sample): [('AHR+KLF1', 0.119885184), ('ARID1A+ctrl', 0.15471244), ('BCL2L11+BAK1', 0.07971266)]\n",
      "test_pert_res keys (sample): ['AHR+KLF1', 'ARID1A+ctrl', 'BCL2L11+BAK1']\n",
      "out keys (sample): ['AHR+KLF1', 'ARID1A+ctrl', 'BCL2L11+BAK1']\n",
      "Pearson correlation between uncertainty and pearson_delta: r = -0.4083, p = 1.2661e-05\n",
      "PearsonRResult(statistic=-0.40831450826604543, pvalue=1.2660674821278165e-05)\n"
     ]
    }
   ],
   "source": [
    "import numpy as np\n",
    "import pandas as pd\n",
    "from scipy.stats import pearsonr\n",
    "\n",
    "# Step 1: Get squared prediction errors\n",
    "errors = (test_res['pred'] - test_res['truth']) ** 2\n",
    "\n",
    "# Step 2: Estimate pseudo-uncertainty as log variance per sample\n",
    "logvar_est = np.log1p(np.var(errors, axis=1))  # shape: (n_samples,)\n",
    "\n",
    "# Add to the test_res dict\n",
    "test_res['logvar'] = logvar_est\n",
    "\n",
    "# Step 3: Aggregate uncertainty per perturbation\n",
    "df_logvar = pd.DataFrame({\n",
    "    'pert': test_res['pert_cat'],\n",
    "    'logvar': test_res['logvar']\n",
    "})\n",
    "\n",
    "# Group by perturbation and take mean logvar\n",
    "pert2unc_df = df_logvar.groupby('pert').agg('mean')\n",
    "pert2unc = dict(zip(pert2unc_df.index.values, pert2unc_df['logvar'].values))\n",
    "\n",
    "# === Evaluate correlation between uncertainty and performance ===\n",
    "metric = 'pearson_delta'\n",
    "\n",
    "# Optional: print sample keys\n",
    "print(\"pert2unc (sample):\", list(pert2unc.items())[:3])\n",
    "print(\"test_pert_res keys (sample):\", list(test_pert_res.keys())[:3])\n",
    "print(\"out keys (sample):\", list(out.keys())[:3])\n",
    "\n",
    "# Filter only matching keys\n",
    "common_keys = [i for i in test_pert_res.keys() if metric in out[i] and i in pert2unc]\n",
    "\n",
    "# Compute summaries\n",
    "stats_summary = [np.exp(-pert2unc[i]) for i in common_keys]\n",
    "metric_summary = [out[i][metric] for i in common_keys]\n",
    "\n",
    "# Final correlation\n",
    "r, p = pearsonr(stats_summary, metric_summary)\n",
    "print(f\"Pearson correlation between uncertainty and {metric}: r = {r:.4f}, p = {p:.4e}\")\n",
    "print( pearsonr(stats_summary, metric_summary) )"
   ]
  },
  {
   "cell_type": "code",
   "execution_count": null,
   "metadata": {},
   "outputs": [],
   "source": [
    "import numpy as np\n",
    "import matplotlib.pyplot as plt\n",
    "import seaborn as sns\n",
    "from matplotlib import font_manager\n",
    "\n",
    "\n",
    "font_dirs = [\"./\"]\n",
    "font_files = font_manager.findSystemFonts(fontpaths=font_dirs)\n",
    "for font_file in font_files:\n",
    "    font_manager.fontManager.addfont(font_file)\n",
    "\n",
    "sns.set(font=\"Helvetica\")\n",
    "sns.set(rc={'figure.figsize': (6, 6)})\n",
    "sns.set_theme(style=\"ticks\", rc={\"axes.facecolor\": (0, 0, 0, 0)}, font=\"Helvetica\", font_scale=1.8)\n",
    "pal = sns.color_palette(\"Set2\").as_hex()\n",
    "\n",
    "\n",
    "\n",
    "def plot(stats_summary, metric_summary):\n",
    "\n",
    "    ax = sns.regplot(\n",
    "        x=np.array(stats_summary),\n",
    "        y=np.array(metric_summary),\n",
    "        color=pal[2],\n",
    "        ci=None\n",
    "    )\n",
    "    sns.despine()\n",
    "    plt.ylabel(\"Pearson Correlation with True Delta \\n Expression Across All Genes\", labelpad=10)\n",
    "    plt.xlabel(\"Predicted Uncertainty\", labelpad=10)\n",
    "    plt.tick_params(axis='x', which='major', pad=10)\n",
    "    plt.tick_params(axis='y', which='major', pad=5)\n",
    "    plt.savefig('uncertainty.pdf', bbox_inches='tight')\n",
    "    plt.show()\n",
    "\n",
    "\n",
    "    top = np.quantile(np.array(list(pert2unc.values())), 0.95)\n",
    "    m = 'pearson_delta'\n",
    "\n",
    "    low_unc = [i[m] for k, i in out.items() if (k in pert2unc and pert2unc[k] < top and m in i)]\n",
    "    high_unc = [i[m] for k, i in out.items() if (k in pert2unc and pert2unc[k] > top and m in i)]\n",
    "\n",
    "    ax = sns.kdeplot(low_unc, color=\"black\", label=\"low uncertainty\")\n",
    "    ax = sns.kdeplot(high_unc, color=\"red\", label=\"high uncertainty\")\n",
    "\n",
    "    print(f'---- {m} ----')\n",
    "    total_mean = np.mean(low_unc)\n",
    "    after_filter_mean = np.mean(high_unc)\n",
    "    enrichment = (after_filter_mean - total_mean) / total_mean\n",
    "\n",
    "    print(f'Total Mean: {total_mean}')\n",
    "    print(f'After uncertainty filter Mean: {after_filter_mean}')\n",
    "    print(f'Enrichment: {enrichment:.4f}')\n",
    "\n",
    "    sns.despine()\n",
    "    ax.set_xlim((-0.24, 1.24))\n",
    "    plt.xlabel(\"Pearson Correlation with True Delta \\n Expression Across All Genes\", labelpad=10)\n",
    "    plt.ylabel(\"Density of Perturbations\", labelpad=10)\n",
    "    plt.tick_params(axis='x', which='major', pad=10)\n",
    "    plt.tick_params(axis='y', which='major', pad=5)\n",
    "    plt.legend()\n",
    "    plt.savefig('prioritize_uncertainty.pdf', bbox_inches='tight')\n",
    "    plt.show()\n"
   ]
  },
  {
   "cell_type": "code",
   "execution_count": 20,
   "metadata": {},
   "outputs": [
    {
     "name": "stderr",
     "output_type": "stream",
     "text": [
      "findfont: Font family 'Helvetica' not found.\n",
      "findfont: Font family 'Helvetica' not found.\n",
      "findfont: Font family 'Helvetica' not found.\n",
      "findfont: Font family 'Helvetica' not found.\n",
      "findfont: Font family 'Helvetica' not found.\n",
      "findfont: Font family 'Helvetica' not found.\n",
      "findfont: Font family 'Helvetica' not found.\n",
      "findfont: Font family 'Helvetica' not found.\n",
      "findfont: Font family 'Helvetica' not found.\n",
      "findfont: Font family 'Helvetica' not found.\n",
      "findfont: Font family 'Helvetica' not found.\n",
      "findfont: Font family 'Helvetica' not found.\n",
      "findfont: Font family 'Helvetica' not found.\n",
      "findfont: Font family 'Helvetica' not found.\n",
      "findfont: Font family 'Helvetica' not found.\n",
      "findfont: Font family 'Helvetica' not found.\n",
      "findfont: Font family 'Helvetica' not found.\n",
      "findfont: Font family 'Helvetica' not found.\n",
      "findfont: Font family 'Helvetica' not found.\n",
      "findfont: Font family 'Helvetica' not found.\n",
      "findfont: Font family 'Helvetica' not found.\n",
      "findfont: Font family 'Helvetica' not found.\n",
      "findfont: Font family 'Helvetica' not found.\n",
      "findfont: Font family 'Helvetica' not found.\n",
      "findfont: Font family 'Helvetica' not found.\n",
      "findfont: Font family 'Helvetica' not found.\n",
      "findfont: Font family 'Helvetica' not found.\n",
      "findfont: Font family 'Helvetica' not found.\n",
      "findfont: Font family 'Helvetica' not found.\n",
      "findfont: Font family 'Helvetica' not found.\n",
      "findfont: Font family 'Helvetica' not found.\n",
      "findfont: Font family 'Helvetica' not found.\n",
      "findfont: Font family 'Helvetica' not found.\n",
      "findfont: Font family 'Helvetica' not found.\n",
      "findfont: Font family 'Helvetica' not found.\n",
      "findfont: Font family 'Helvetica' not found.\n",
      "findfont: Font family 'Helvetica' not found.\n",
      "findfont: Font family 'Helvetica' not found.\n",
      "findfont: Font family 'Helvetica' not found.\n",
      "findfont: Font family 'Helvetica' not found.\n",
      "findfont: Font family 'Helvetica' not found.\n",
      "findfont: Font family 'Helvetica' not found.\n",
      "findfont: Font family 'Helvetica' not found.\n",
      "findfont: Font family 'Helvetica' not found.\n",
      "findfont: Font family 'Helvetica' not found.\n",
      "findfont: Font family 'Helvetica' not found.\n",
      "findfont: Font family 'Helvetica' not found.\n",
      "findfont: Font family 'Helvetica' not found.\n",
      "findfont: Font family 'Helvetica' not found.\n",
      "findfont: Font family 'Helvetica' not found.\n",
      "findfont: Font family 'Helvetica' not found.\n",
      "findfont: Font family 'Helvetica' not found.\n",
      "findfont: Font family 'Helvetica' not found.\n",
      "findfont: Font family 'Helvetica' not found.\n",
      "findfont: Font family 'Helvetica' not found.\n",
      "findfont: Font family 'Helvetica' not found.\n",
      "findfont: Font family 'Helvetica' not found.\n",
      "findfont: Font family 'Helvetica' not found.\n",
      "findfont: Font family 'Helvetica' not found.\n",
      "findfont: Font family 'Helvetica' not found.\n",
      "findfont: Font family 'Helvetica' not found.\n",
      "findfont: Font family 'Helvetica' not found.\n",
      "findfont: Font family 'Helvetica' not found.\n",
      "findfont: Font family 'Helvetica' not found.\n",
      "findfont: Font family 'Helvetica' not found.\n",
      "findfont: Font family 'Helvetica' not found.\n",
      "findfont: Font family 'Helvetica' not found.\n",
      "findfont: Font family 'Helvetica' not found.\n",
      "findfont: Font family 'Helvetica' not found.\n",
      "findfont: Font family 'Helvetica' not found.\n",
      "findfont: Font family 'Helvetica' not found.\n",
      "findfont: Font family 'Helvetica' not found.\n",
      "findfont: Font family 'Helvetica' not found.\n",
      "findfont: Font family 'Helvetica' not found.\n",
      "findfont: Font family 'Helvetica' not found.\n",
      "findfont: Font family 'Helvetica' not found.\n",
      "findfont: Font family 'Helvetica' not found.\n",
      "findfont: Font family 'Helvetica' not found.\n",
      "findfont: Font family 'Helvetica' not found.\n",
      "findfont: Font family 'Helvetica' not found.\n",
      "findfont: Font family 'Helvetica' not found.\n",
      "findfont: Font family 'Helvetica' not found.\n",
      "findfont: Font family 'Helvetica' not found.\n",
      "findfont: Font family 'Helvetica' not found.\n",
      "findfont: Font family 'Helvetica' not found.\n",
      "findfont: Font family 'Helvetica' not found.\n",
      "findfont: Font family 'Helvetica' not found.\n",
      "findfont: Font family 'Helvetica' not found.\n",
      "findfont: Font family 'Helvetica' not found.\n",
      "findfont: Font family 'Helvetica' not found.\n",
      "findfont: Font family 'Helvetica' not found.\n",
      "findfont: Font family 'Helvetica' not found.\n",
      "findfont: Font family 'Helvetica' not found.\n",
      "findfont: Font family 'Helvetica' not found.\n",
      "findfont: Font family 'Helvetica' not found.\n",
      "findfont: Font family 'Helvetica' not found.\n",
      "findfont: Font family 'Helvetica' not found.\n",
      "findfont: Font family 'Helvetica' not found.\n",
      "findfont: Font family 'Helvetica' not found.\n"
     ]
    },
    {
     "data": {
      "image/png": "[encoded data removed]",
      "text/plain": [
       "<Figure size 600x600 with 1 Axes>"
      ]
     },
     "metadata": {},
     "output_type": "display_data"
    },
    {
     "name": "stderr",
     "output_type": "stream",
     "text": [
      "findfont: Font family 'Helvetica' not found.\n",
      "findfont: Font family 'Helvetica' not found.\n",
      "findfont: Font family 'Helvetica' not found.\n",
      "findfont: Font family 'Helvetica' not found.\n",
      "findfont: Font family 'Helvetica' not found.\n",
      "findfont: Font family 'Helvetica' not found.\n",
      "findfont: Font family 'Helvetica' not found.\n",
      "findfont: Font family 'Helvetica' not found.\n",
      "findfont: Font family 'Helvetica' not found.\n",
      "findfont: Font family 'Helvetica' not found.\n",
      "findfont: Font family 'Helvetica' not found.\n",
      "findfont: Font family 'Helvetica' not found.\n",
      "findfont: Font family 'Helvetica' not found.\n",
      "findfont: Font family 'Helvetica' not found.\n",
      "findfont: Font family 'Helvetica' not found.\n",
      "findfont: Font family 'Helvetica' not found.\n",
      "findfont: Font family 'Helvetica' not found.\n",
      "findfont: Font family 'Helvetica' not found.\n",
      "findfont: Font family 'Helvetica' not found.\n",
      "findfont: Font family 'Helvetica' not found.\n",
      "findfont: Font family 'Helvetica' not found.\n",
      "findfont: Font family 'Helvetica' not found.\n",
      "findfont: Font family 'Helvetica' not found.\n",
      "findfont: Font family 'Helvetica' not found.\n",
      "findfont: Font family 'Helvetica' not found.\n",
      "findfont: Font family 'Helvetica' not found.\n",
      "findfont: Font family 'Helvetica' not found.\n",
      "findfont: Font family 'Helvetica' not found.\n",
      "findfont: Font family 'Helvetica' not found.\n",
      "findfont: Font family 'Helvetica' not found.\n",
      "findfont: Font family 'Helvetica' not found.\n",
      "findfont: Font family 'Helvetica' not found.\n",
      "findfont: Font family 'Helvetica' not found.\n",
      "findfont: Font family 'Helvetica' not found.\n",
      "findfont: Font family 'Helvetica' not found.\n",
      "findfont: Font family 'Helvetica' not found.\n",
      "findfont: Font family 'Helvetica' not found.\n",
      "findfont: Font family 'Helvetica' not found.\n",
      "findfont: Font family 'Helvetica' not found.\n",
      "findfont: Font family 'Helvetica' not found.\n",
      "findfont: Font family 'Helvetica' not found.\n",
      "findfont: Font family 'Helvetica' not found.\n",
      "findfont: Font family 'Helvetica' not found.\n",
      "findfont: Font family 'Helvetica' not found.\n",
      "findfont: Font family 'Helvetica' not found.\n",
      "findfont: Font family 'Helvetica' not found.\n",
      "findfont: Font family 'Helvetica' not found.\n",
      "findfont: Font family 'Helvetica' not found.\n",
      "findfont: Font family 'Helvetica' not found.\n",
      "findfont: Font family 'Helvetica' not found.\n",
      "findfont: Font family 'Helvetica' not found.\n",
      "findfont: Font family 'Helvetica' not found.\n",
      "findfont: Font family 'Helvetica' not found.\n",
      "findfont: Font family 'Helvetica' not found.\n",
      "findfont: Font family 'Helvetica' not found.\n",
      "findfont: Font family 'Helvetica' not found.\n",
      "findfont: Font family 'Helvetica' not found.\n",
      "findfont: Font family 'Helvetica' not found.\n",
      "findfont: Font family 'Helvetica' not found.\n",
      "findfont: Font family 'Helvetica' not found.\n",
      "findfont: Font family 'Helvetica' not found.\n",
      "findfont: Font family 'Helvetica' not found.\n",
      "findfont: Font family 'Helvetica' not found.\n",
      "findfont: Font family 'Helvetica' not found.\n",
      "findfont: Font family 'Helvetica' not found.\n",
      "findfont: Font family 'Helvetica' not found.\n",
      "findfont: Font family 'Helvetica' not found.\n",
      "findfont: Font family 'Helvetica' not found.\n",
      "findfont: Font family 'Helvetica' not found.\n",
      "findfont: Font family 'Helvetica' not found.\n",
      "findfont: Font family 'Helvetica' not found.\n",
      "findfont: Font family 'Helvetica' not found.\n",
      "findfont: Font family 'Helvetica' not found.\n",
      "findfont: Font family 'Helvetica' not found.\n",
      "findfont: Font family 'Helvetica' not found.\n",
      "findfont: Font family 'Helvetica' not found.\n",
      "findfont: Font family 'Helvetica' not found.\n",
      "findfont: Font family 'Helvetica' not found.\n",
      "findfont: Font family 'Helvetica' not found.\n",
      "findfont: Font family 'Helvetica' not found.\n",
      "findfont: Font family 'Helvetica' not found.\n",
      "findfont: Font family 'Helvetica' not found.\n",
      "findfont: Font family 'Helvetica' not found.\n",
      "findfont: Font family 'Helvetica' not found.\n",
      "findfont: Font family 'Helvetica' not found.\n",
      "findfont: Font family 'Helvetica' not found.\n",
      "findfont: Font family 'Helvetica' not found.\n",
      "findfont: Font family 'Helvetica' not found.\n",
      "findfont: Font family 'Helvetica' not found.\n"
     ]
    },
    {
     "name": "stdout",
     "output_type": "stream",
     "text": [
      "---- pearson_delta ----\n",
      "Total Mean: 0.17097364477965646\n",
      "After uncertainty filter Mean: 0.43388975097265114\n",
      "Enrichment: 1.5378\n"
     ]
    },
    {
     "name": "stderr",
     "output_type": "stream",
     "text": [
      "findfont: Font family 'Helvetica' not found.\n",
      "findfont: Font family 'Helvetica' not found.\n",
      "findfont: Font family 'Helvetica' not found.\n",
      "findfont: Font family 'Helvetica' not found.\n",
      "findfont: Font family 'Helvetica' not found.\n",
      "findfont: Font family 'Helvetica' not found.\n",
      "findfont: Font family 'Helvetica' not found.\n",
      "findfont: Font family 'Helvetica' not found.\n",
      "findfont: Font family 'Helvetica' not found.\n",
      "findfont: Font family 'Helvetica' not found.\n",
      "findfont: Font family 'Helvetica' not found.\n",
      "findfont: Font family 'Helvetica' not found.\n",
      "findfont: Font family 'Helvetica' not found.\n",
      "findfont: Font family 'Helvetica' not found.\n",
      "findfont: Font family 'Helvetica' not found.\n",
      "findfont: Font family 'Helvetica' not found.\n",
      "findfont: Font family 'Helvetica' not found.\n",
      "findfont: Font family 'Helvetica' not found.\n",
      "findfont: Font family 'Helvetica' not found.\n",
      "findfont: Font family 'Helvetica' not found.\n",
      "findfont: Font family 'Helvetica' not found.\n",
      "findfont: Font family 'Helvetica' not found.\n",
      "findfont: Font family 'Helvetica' not found.\n",
      "findfont: Font family 'Helvetica' not found.\n",
      "findfont: Font family 'Helvetica' not found.\n",
      "findfont: Font family 'Helvetica' not found.\n",
      "findfont: Font family 'Helvetica' not found.\n",
      "findfont: Font family 'Helvetica' not found.\n",
      "findfont: Font family 'Helvetica' not found.\n",
      "findfont: Font family 'Helvetica' not found.\n",
      "findfont: Font family 'Helvetica' not found.\n",
      "findfont: Font family 'Helvetica' not found.\n",
      "findfont: Font family 'Helvetica' not found.\n",
      "findfont: Font family 'Helvetica' not found.\n",
      "findfont: Font family 'Helvetica' not found.\n",
      "findfont: Font family 'Helvetica' not found.\n",
      "findfont: Font family 'Helvetica' not found.\n",
      "findfont: Font family 'Helvetica' not found.\n",
      "findfont: Font family 'Helvetica' not found.\n",
      "findfont: Font family 'Helvetica' not found.\n",
      "findfont: Font family 'Helvetica' not found.\n",
      "findfont: Font family 'Helvetica' not found.\n",
      "findfont: Font family 'Helvetica' not found.\n",
      "findfont: Font family 'Helvetica' not found.\n",
      "findfont: Font family 'Helvetica' not found.\n",
      "findfont: Font family 'Helvetica' not found.\n",
      "findfont: Font family 'Helvetica' not found.\n",
      "findfont: Font family 'Helvetica' not found.\n",
      "findfont: Font family 'Helvetica' not found.\n",
      "findfont: Font family 'Helvetica' not found.\n",
      "findfont: Font family 'Helvetica' not found.\n",
      "findfont: Font family 'Helvetica' not found.\n",
      "findfont: Font family 'Helvetica' not found.\n",
      "findfont: Font family 'Helvetica' not found.\n",
      "findfont: Font family 'Helvetica' not found.\n",
      "findfont: Font family 'Helvetica' not found.\n",
      "findfont: Font family 'Helvetica' not found.\n",
      "findfont: Font family 'Helvetica' not found.\n",
      "findfont: Font family 'Helvetica' not found.\n",
      "findfont: Font family 'Helvetica' not found.\n",
      "findfont: Font family 'Helvetica' not found.\n",
      "findfont: Font family 'Helvetica' not found.\n",
      "findfont: Font family 'Helvetica' not found.\n"
     ]
    },
    {
     "data": {
      "image/png": "[encoded data removed]",
      "text/plain": [
       "<Figure size 600x600 with 1 Axes>"
      ]
     },
     "metadata": {},
     "output_type": "display_data"
    }
   ],
   "source": [
    "\n",
    "plot(stats_summary, metric_summary)"
   ]
  },
  {
   "cell_type": "code",
   "execution_count": null,
   "metadata": {},
   "outputs": [],
   "source": [
    "from gears import GEARS\n",
    "from gears import PertData\n",
    "\n",
    "gears_model = GEARS(pert_data, device='cpu')  \n",
    "gears_model.load_pretrained('test_model')  "
   ]
  },
  {
   "cell_type": "code",
   "execution_count": null,
   "metadata": {},
   "outputs": [],
   "source": [
    "import torch\n",
    "import torch.nn as nn\n",
    "from torch.utils.data import Dataset, DataLoader\n",
    "import numpy as np\n",
    "\n",
    "gene_emb_matrix = gears_model.model.gene_emb.weight.detach().cpu()\n",
    "pert_emb_matrix = gears_model.model.pert_emb.weight.detach().cpu()\n"
   ]
  },
  {
   "cell_type": "code",
   "execution_count": null,
   "metadata": {},
   "outputs": [],
   "source": [
    "class PerturbationDataset(Dataset):\n",
    "    def __init__(self, adata, set2conditions, split, gene_emb_matrix, pert_emb_matrix, node_map, node_map_pert):\n",
    "        self.adata = adata\n",
    "        self.conditions = set2conditions[split]\n",
    "        self.samples = adata.obs[adata.obs['condition'].isin(self.conditions)]\n",
    "        self.X = adata.X[adata.obs_names.get_indexer(self.samples.index)].toarray()\n",
    "        self.condition_names = self.samples['condition'].values\n",
    "\n",
    "        self.gene_emb_matrix = gene_emb_matrix\n",
    "        self.pert_emb_matrix = pert_emb_matrix\n",
    "        self.node_map = node_map\n",
    "        self.node_map_pert = node_map_pert\n",
    "\n",
    "    def __len__(self):\n",
    "        return len(self.X)\n",
    "\n",
    "    def __getitem__(self, idx):\n",
    "        y = self.X[idx]\n",
    "        cond = self.condition_names[idx]\n",
    "        pert_genes = cond.split('+')\n",
    "        pert_embs = []\n",
    "\n",
    "        for g in pert_genes:\n",
    "            if g == 'ctrl':\n",
    "                continue\n",
    "            idx = self.node_map_pert[g]\n",
    "            pert_embs.append(self.pert_emb_matrix[idx])\n",
    "        \n",
    "        if len(pert_embs) == 0:\n",
    "            p_emb = torch.zeros_like(self.pert_emb_matrix[0])\n",
    "        else:\n",
    "            p_emb = torch.stack(pert_embs).mean(dim=0)  \n",
    "        return p_emb, torch.tensor(y, dtype=torch.float32)\n"
   ]
  },
  {
   "cell_type": "code",
   "execution_count": 24,
   "metadata": {},
   "outputs": [],
   "source": [
    "class LinearPertModel(nn.Module):\n",
    "    def __init__(self, input_dim, output_dim):\n",
    "        super().__init__()\n",
    "        self.linear = nn.Linear(input_dim, output_dim)\n",
    "\n",
    "    def forward(self, x):\n",
    "        return self.linear(x)\n"
   ]
  },
  {
   "cell_type": "code",
   "execution_count": 25,
   "metadata": {},
   "outputs": [
    {
     "name": "stdout",
     "output_type": "stream",
     "text": [
      "Epoch 1, Loss: 120.7845\n",
      "Epoch 2, Loss: 74.2226\n",
      "Epoch 3, Loss: 53.3635\n",
      "Epoch 4, Loss: 42.4032\n",
      "Epoch 5, Loss: 36.3933\n",
      "Epoch 6, Loss: 33.1571\n",
      "Epoch 7, Loss: 31.5383\n",
      "Epoch 8, Loss: 30.8065\n",
      "Epoch 9, Loss: 30.4976\n",
      "Epoch 10, Loss: 30.3608\n"
     ]
    }
   ],
   "source": [
    "train_dataset = PerturbationDataset(\n",
    "    adata=pert_data.adata,\n",
    "    set2conditions=pert_data.set2conditions,\n",
    "    split='train',\n",
    "    gene_emb_matrix=gene_emb_matrix,\n",
    "    pert_emb_matrix=pert_emb_matrix,\n",
    "    node_map=pert_data.node_map,\n",
    "    node_map_pert=pert_data.node_map_pert\n",
    ")\n",
    "\n",
    "train_loader = DataLoader(train_dataset, batch_size=64, shuffle=True)\n",
    "\n",
    "model = LinearPertModel(input_dim=pert_emb_matrix.shape[1], output_dim=pert_data.adata.shape[1])\n",
    "optimizer = torch.optim.Adam(model.parameters(), lr=1e-3)\n",
    "loss_fn = nn.MSELoss()\n",
    "\n",
    "for epoch in range(10):\n",
    "    total_loss = 0\n",
    "    for p_emb, y in train_loader:\n",
    "        pred = model(p_emb)\n",
    "        loss = loss_fn(pred, y)\n",
    "        loss.backward()\n",
    "        optimizer.step()\n",
    "        optimizer.zero_grad()\n",
    "        total_loss += loss.item()\n",
    "    print(f\"Epoch {epoch+1}, Loss: {total_loss:.4f}\")\n"
   ]
  },
  {
   "cell_type": "code",
   "execution_count": 26,
   "metadata": {},
   "outputs": [],
   "source": [
    "test_dataset = PerturbationDataset(\n",
    "    adata=pert_data.adata,\n",
    "    set2conditions=pert_data.set2conditions,\n",
    "    split='test',\n",
    "    gene_emb_matrix=gene_emb_matrix,\n",
    "    pert_emb_matrix=pert_emb_matrix,\n",
    "    node_map=pert_data.node_map,\n",
    "    node_map_pert=pert_data.node_map_pert\n",
    ")\n",
    "\n",
    "test_loader = DataLoader(test_dataset, batch_size=64, shuffle=False)\n"
   ]
  },
  {
   "cell_type": "code",
   "execution_count": null,
   "metadata": {},
   "outputs": [
    {
     "name": "stdout",
     "output_type": "stream",
     "text": [
      "Mean Squared Error (MSE): 0.045641024\n",
      "Mean Pearson Correlation: 0.03170964806404069\n"
     ]
    }
   ],
   "source": [
    "from sklearn.metrics import mean_squared_error\n",
    "from scipy.stats import pearsonr\n",
    "\n",
    "model.eval()\n",
    "all_preds, all_truth = [], []\n",
    "\n",
    "with torch.no_grad():\n",
    "    for pert_emb, y_true in test_loader:\n",
    "        pert_emb = pert_emb.float()\n",
    "        y_true = y_true.float()\n",
    "        y_pred = model(pert_emb)\n",
    "        all_preds.append(y_pred)\n",
    "        all_truth.append(y_true)\n",
    "\n",
    "\n",
    "# Stack all batches\n",
    "y_pred = torch.cat(all_preds).cpu().numpy()\n",
    "y_true = torch.cat(all_truth).cpu().numpy()\n",
    "\n",
    "# Mean Squared Error\n",
    "mse = mean_squared_error(y_true, y_pred)\n",
    "print(\"Mean Squared Error (MSE):\", mse)\n",
    "\n",
    "pearsons = []\n",
    "for i in range(y_true.shape[1]):\n",
    "    if np.std(y_true[:, i]) > 0:\n",
    "        pearsons.append(pearsonr(y_true[:, i], y_pred[:, i])[0])\n",
    "\n",
    "mean_pearson = np.mean(pearsons)\n",
    "print(\"Mean Pearson Correlation:\", mean_pearson)\n"
   ]
  },
  {
   "cell_type": "code",
   "execution_count": 28,
   "metadata": {},
   "outputs": [],
   "source": [
    "from gears.inference import evaluate\n",
    "from gears.utils import print_sys\n",
    "\n",
    "# Get test dataloader\n",
    "test_loader = pert_data.dataloader['test_loader']\n",
    "\n",
    "# Run evaluation\n",
    "test_res = evaluate(test_loader, gears_model.best_model, \n",
    "                    gears_model.config['uncertainty'], \n",
    "                    gears_model.device)\n"
   ]
  },
  {
   "cell_type": "code",
   "execution_count": null,
   "metadata": {},
   "outputs": [
    {
     "name": "stdout",
     "output_type": "stream",
     "text": [
      "GEARS MSE (L2): 0.07872489\n"
     ]
    }
   ],
   "source": [
    "import numpy as np\n",
    "\n",
    "\n",
    "gears_model_errors = (test_res['pred'] - test_res['truth'])**2\n",
    "print(\"GEARS MSE (L2):\", np.mean(gears_model_errors))\n"
   ]
  },
  {
   "cell_type": "code",
   "execution_count": null,
   "metadata": {},
   "outputs": [
    {
     "name": "stdout",
     "output_type": "stream",
     "text": [
      "Linear Model MSE: 0.045641\n",
      "Linear Model Pearson: 0.884842\n"
     ]
    }
   ],
   "source": [
    "\n",
    "test_dataset_linear = PerturbationDataset(\n",
    "    adata=pert_data.adata,\n",
    "    set2conditions=pert_data.set2conditions,\n",
    "    split='test',\n",
    "    gene_emb_matrix=gene_emb_matrix,\n",
    "    pert_emb_matrix=pert_emb_matrix,\n",
    "    node_map=pert_data.node_map,\n",
    "    node_map_pert=pert_data.node_map_pert\n",
    ")\n",
    "\n",
    "\n",
    "test_loader_linear = torch.utils.data.DataLoader(test_dataset_linear, batch_size=64, shuffle=False)\n",
    "\n",
    "\n",
    "model.eval()\n",
    "all_preds, all_truth = [], []\n",
    "\n",
    "with torch.no_grad():\n",
    "    for pert_emb, y_true in test_loader_linear:\n",
    "        pert_emb = pert_emb.float()\n",
    "        y_true = y_true.float()\n",
    "\n",
    "        preds = model(pert_emb)\n",
    "        all_preds.append(preds.numpy())\n",
    "        all_truth.append(y_true.numpy())\n",
    "\n",
    "all_preds = np.vstack(all_preds)\n",
    "all_truth = np.vstack(all_truth)\n",
    "\n",
    "from sklearn.metrics import mean_squared_error\n",
    "from scipy.stats import pearsonr\n",
    "\n",
    "mse = mean_squared_error(all_truth, all_preds)\n",
    "pearson = np.mean([\n",
    "    pearsonr(all_preds[i], all_truth[i])[0]\n",
    "    for i in range(all_preds.shape[0])\n",
    "])\n",
    "\n",
    "print(f\"Linear Model MSE: {mse:.6f}\")\n",
    "print(f\"Linear Model Pearson: {pearson:.6f}\")\n",
    "\n",
    "\n"
   ]
  },
  {
   "cell_type": "code",
   "execution_count": null,
   "metadata": {},
   "outputs": [],
   "source": [
    "import torch\n",
    "import torch.nn as nn\n",
    "from torchdiffeq import odeint \n",
    "\n",
    "# ODE Function\n",
    "class ODEF(nn.Module):\n",
    "    def __init__(self, hidden_dim):\n",
    "        super().__init__()\n",
    "        self.net = nn.Sequential(\n",
    "            nn.Linear(hidden_dim, hidden_dim),\n",
    "            nn.Tanh(),\n",
    "            nn.Linear(hidden_dim, hidden_dim)\n",
    "        )\n",
    "\n",
    "    def forward(self, t, x):\n",
    "        return self.net(x)\n",
    "\n",
    "# Full Neural ODE model\n",
    "class NeuralODEModel(nn.Module):\n",
    "    def __init__(self, input_dim, output_dim, hidden_dim=128):\n",
    "        super().__init__()\n",
    "        self.input_layer = nn.Linear(input_dim, hidden_dim)\n",
    "        self.odefunc = ODEF(hidden_dim)\n",
    "        self.output_layer = nn.Linear(hidden_dim, output_dim)\n",
    "\n",
    "    def forward(self, x):\n",
    "        x = self.input_layer(x)\n",
    "        t = torch.tensor([0., 1.], device=x.device)\n",
    "        x = odeint(self.odefunc, x, t, method='dopri5')[1]\n",
    "        x = self.output_layer(x)\n",
    "        return x\n",
    "\n",
    "\n",
    "\n",
    "model = NeuralODEModel(input_dim=pert_emb_matrix.shape[1], output_dim=pert_data.adata.shape[1])\n"
   ]
  },
  {
   "cell_type": "code",
   "execution_count": null,
   "metadata": {},
   "outputs": [
    {
     "name": "stdout",
     "output_type": "stream",
     "text": [
      "Epoch 1, Loss: 34.3405\n",
      "Epoch 2, Loss: 30.8016\n",
      "Epoch 3, Loss: 30.5882\n",
      "Epoch 4, Loss: 30.4682\n",
      "Epoch 5, Loss: 30.3708\n",
      "Epoch 6, Loss: 30.3089\n",
      "Epoch 7, Loss: 30.2587\n",
      "Epoch 8, Loss: 30.2078\n",
      "Epoch 9, Loss: 30.1619\n",
      "Epoch 10, Loss: 30.1224\n"
     ]
    }
   ],
   "source": [
    "from torch.utils.data import DataLoader\n",
    "import torch.nn as nn\n",
    "import torch\n",
    "\n",
    "# Initialize dataset\n",
    "train_dataset = PerturbationDataset(\n",
    "    adata=pert_data.adata,\n",
    "    set2conditions=pert_data.set2conditions,\n",
    "    split='train',\n",
    "    gene_emb_matrix=gene_emb_matrix,\n",
    "    pert_emb_matrix=pert_emb_matrix,\n",
    "    node_map=pert_data.node_map,\n",
    "    node_map_pert=pert_data.node_map_pert\n",
    ")\n",
    "\n",
    "train_loader = DataLoader(train_dataset, batch_size=64, shuffle=True)\n",
    "\n",
    "# Initialize Neural ODE model\n",
    "model = NeuralODEModel(\n",
    "    input_dim=pert_emb_matrix.shape[1],\n",
    "    output_dim=pert_data.adata.shape[1],\n",
    "    hidden_dim=128  \n",
    "\n",
    "optimizer = torch.optim.Adam(model.parameters(), lr=1e-3)\n",
    "loss_fn = nn.MSELoss()\n",
    "\n",
    "for epoch in range(10):\n",
    "    model.train()\n",
    "    total_loss = 0\n",
    "    for p_emb, y in train_loader:\n",
    "        pred = model(p_emb.float())\n",
    "        loss = loss_fn(pred, y.float())\n",
    "        loss.backward()\n",
    "        optimizer.step()\n",
    "        optimizer.zero_grad()\n",
    "        total_loss += loss.item()\n",
    "    print(f\"Epoch {epoch+1}, Loss: {total_loss:.4f}\")\n"
   ]
  },
  {
   "cell_type": "code",
   "execution_count": 33,
   "metadata": {},
   "outputs": [],
   "source": [
    "test_dataset = PerturbationDataset(\n",
    "    adata=pert_data.adata,\n",
    "    set2conditions=pert_data.set2conditions,\n",
    "    split='test',\n",
    "    gene_emb_matrix=gene_emb_matrix,\n",
    "    pert_emb_matrix=pert_emb_matrix,\n",
    "    node_map=pert_data.node_map,\n",
    "    node_map_pert=pert_data.node_map_pert\n",
    ")\n",
    "\n",
    "test_loader = DataLoader(test_dataset, batch_size=64, shuffle=False)\n",
    "\n",
    "model.eval()\n",
    "predictions, truths = [], []\n",
    "\n",
    "with torch.no_grad():\n",
    "    for p_emb, y in test_loader:\n",
    "        pred = model(p_emb.float())\n",
    "        predictions.append(pred.detach().cpu())\n",
    "        truths.append(y.detach().cpu())\n",
    "\n",
    "predictions = torch.cat(predictions).numpy()\n",
    "truths = torch.cat(truths).numpy()\n"
   ]
  },
  {
   "cell_type": "code",
   "execution_count": null,
   "metadata": {},
   "outputs": [
    {
     "name": "stdout",
     "output_type": "stream",
     "text": [
      "Neural ODE Model MSE: 0.045748\n",
      "Neural ODE Model Pearson: 0.884417\n"
     ]
    }
   ],
   "source": [
    "from sklearn.metrics import mean_squared_error\n",
    "from scipy.stats import pearsonr\n",
    "import numpy as np\n",
    "\n",
    "mse = mean_squared_error(truths, predictions)\n",
    "print(f\"Neural ODE Model MSE: {mse:.6f}\")\n",
    "\n",
    "# Mean Pearson Correlation per cell\n",
    "pearsons = []\n",
    "for pred_row, true_row in zip(predictions, truths):\n",
    "    r, _ = pearsonr(pred_row, true_row)\n",
    "    pearsons.append(r)\n",
    "\n",
    "mean_pearson = np.mean(pearsons)\n",
    "print(f\"Neural ODE Model Pearson: {mean_pearson:.6f}\")\n"
   ]
  },
  {
   "cell_type": "code",
   "execution_count": 35,
   "metadata": {},
   "outputs": [],
   "source": [
    "train_dataset = PerturbationDataset(\n",
    "    adata=pert_data.adata,\n",
    "    set2conditions=pert_data.set2conditions,\n",
    "    split='train',\n",
    "    gene_emb_matrix=gene_emb_matrix,\n",
    "    pert_emb_matrix=pert_emb_matrix,\n",
    "    node_map=pert_data.node_map,\n",
    "    node_map_pert=pert_data.node_map_pert\n",
    ")\n",
    "num_samples = len(train_dataset)\n",
    "\n",
    "control_vector = adata[adata.obs[\"condition\"] == \"ctrl\"].X.mean(axis=0).A1  # (num_genes,)\n",
    "control_expr = np.tile(control_vector, (num_samples, 1))  # (num_samples, num_genes)\n"
   ]
  },
  {
   "cell_type": "code",
   "execution_count": null,
   "metadata": {},
   "outputs": [],
   "source": []
  },
  {
   "cell_type": "code",
   "execution_count": null,
   "metadata": {},
   "outputs": [],
   "source": [
    "train_dataset = PerturbationDataset(\n",
    "    adata=pert_data.adata,\n",
    "    set2conditions=pert_data.set2conditions,\n",
    "    split='train',\n",
    "    gene_emb_matrix=gene_emb_matrix,\n",
    "    pert_emb_matrix=pert_emb_matrix,\n",
    "    node_map=pert_data.node_map,\n",
    "    node_map_pert=pert_data.node_map_pert\n",
    ")\n",
    "num_samples = len(train_dataset)\n",
    "\n",
    "control_vector = adata[adata.obs[\"condition\"] == \"ctrl\"].X.mean(axis=0).A1  # (num_genes,)\n",
    "control_expr = np.tile(control_vector, (num_samples, 1))  "
   ]
  },
  {
   "cell_type": "code",
   "execution_count": 1,
   "metadata": {},
   "outputs": [
    {
     "ename": "NameError",
     "evalue": "name 'nn' is not defined",
     "output_type": "error",
     "traceback": [
      "\u001b[1;31m---------------------------------------------------------------------------\u001b[0m",
      "\u001b[1;31mNameError\u001b[0m                                 Traceback (most recent call last)",
      "Cell \u001b[1;32mIn[1], line 1\u001b[0m\n\u001b[1;32m----> 1\u001b[0m \u001b[38;5;28;01mclass\u001b[39;00m \u001b[38;5;21;01mLinearPertModel\u001b[39;00m(\u001b[43mnn\u001b[49m\u001b[38;5;241m.\u001b[39mModule):\n\u001b[0;32m      2\u001b[0m     \u001b[38;5;28;01mdef\u001b[39;00m \u001b[38;5;21m__init__\u001b[39m(\u001b[38;5;28mself\u001b[39m, input_dim, output_dim):\n\u001b[0;32m      3\u001b[0m         \u001b[38;5;28msuper\u001b[39m()\u001b[38;5;241m.\u001b[39m\u001b[38;5;21m__init__\u001b[39m()\n",
      "\u001b[1;31mNameError\u001b[0m: name 'nn' is not defined"
     ]
    }
   ],
   "source": [
    "class LinearPertModel(nn.Module):\n",
    "    def __init__(self, input_dim, output_dim):\n",
    "        super().__init__()\n",
    "        self.linear = nn.Linear(input_dim, output_dim)\n",
    "\n",
    "    def forward(self, pert_emb, control_expr):\n",
    "        return control_expr + self.linear(pert_emb)\n"
   ]
  },
  {
   "cell_type": "code",
   "execution_count": null,
   "metadata": {},
   "outputs": [
    {
     "ename": "TypeError",
     "evalue": "LinearPertModel.forward() missing 1 required positional argument: 'control_expr'",
     "output_type": "error",
     "traceback": [
      "\u001b[1;31m---------------------------------------------------------------------------\u001b[0m",
      "\u001b[1;31mTypeError\u001b[0m                                 Traceback (most recent call last)",
      "Cell \u001b[1;32mIn[38], line 20\u001b[0m\n\u001b[0;32m     18\u001b[0m total_loss \u001b[38;5;241m=\u001b[39m \u001b[38;5;241m0\u001b[39m\n\u001b[0;32m     19\u001b[0m \u001b[38;5;28;01mfor\u001b[39;00m p_emb, y \u001b[38;5;129;01min\u001b[39;00m train_loader:\n\u001b[1;32m---> 20\u001b[0m     pred \u001b[38;5;241m=\u001b[39m \u001b[43mmodel\u001b[49m\u001b[43m(\u001b[49m\u001b[43mp_emb\u001b[49m\u001b[43m)\u001b[49m\n\u001b[0;32m     21\u001b[0m     loss \u001b[38;5;241m=\u001b[39m loss_fn(pred, y)\n\u001b[0;32m     22\u001b[0m     loss\u001b[38;5;241m.\u001b[39mbackward()\n",
      "File \u001b[1;32md:\\anaconda\\envs\\nlp\\Lib\\site-packages\\torch\\nn\\modules\\module.py:1739\u001b[0m, in \u001b[0;36mModule._wrapped_call_impl\u001b[1;34m(self, *args, **kwargs)\u001b[0m\n\u001b[0;32m   1737\u001b[0m     \u001b[38;5;28;01mreturn\u001b[39;00m \u001b[38;5;28mself\u001b[39m\u001b[38;5;241m.\u001b[39m_compiled_call_impl(\u001b[38;5;241m*\u001b[39margs, \u001b[38;5;241m*\u001b[39m\u001b[38;5;241m*\u001b[39mkwargs)  \u001b[38;5;66;03m# type: ignore[misc]\u001b[39;00m\n\u001b[0;32m   1738\u001b[0m \u001b[38;5;28;01melse\u001b[39;00m:\n\u001b[1;32m-> 1739\u001b[0m     \u001b[38;5;28;01mreturn\u001b[39;00m \u001b[38;5;28;43mself\u001b[39;49m\u001b[38;5;241;43m.\u001b[39;49m\u001b[43m_call_impl\u001b[49m\u001b[43m(\u001b[49m\u001b[38;5;241;43m*\u001b[39;49m\u001b[43margs\u001b[49m\u001b[43m,\u001b[49m\u001b[43m \u001b[49m\u001b[38;5;241;43m*\u001b[39;49m\u001b[38;5;241;43m*\u001b[39;49m\u001b[43mkwargs\u001b[49m\u001b[43m)\u001b[49m\n",
      "File \u001b[1;32md:\\anaconda\\envs\\nlp\\Lib\\site-packages\\torch\\nn\\modules\\module.py:1750\u001b[0m, in \u001b[0;36mModule._call_impl\u001b[1;34m(self, *args, **kwargs)\u001b[0m\n\u001b[0;32m   1745\u001b[0m \u001b[38;5;66;03m# If we don't have any hooks, we want to skip the rest of the logic in\u001b[39;00m\n\u001b[0;32m   1746\u001b[0m \u001b[38;5;66;03m# this function, and just call forward.\u001b[39;00m\n\u001b[0;32m   1747\u001b[0m \u001b[38;5;28;01mif\u001b[39;00m \u001b[38;5;129;01mnot\u001b[39;00m (\u001b[38;5;28mself\u001b[39m\u001b[38;5;241m.\u001b[39m_backward_hooks \u001b[38;5;129;01mor\u001b[39;00m \u001b[38;5;28mself\u001b[39m\u001b[38;5;241m.\u001b[39m_backward_pre_hooks \u001b[38;5;129;01mor\u001b[39;00m \u001b[38;5;28mself\u001b[39m\u001b[38;5;241m.\u001b[39m_forward_hooks \u001b[38;5;129;01mor\u001b[39;00m \u001b[38;5;28mself\u001b[39m\u001b[38;5;241m.\u001b[39m_forward_pre_hooks\n\u001b[0;32m   1748\u001b[0m         \u001b[38;5;129;01mor\u001b[39;00m _global_backward_pre_hooks \u001b[38;5;129;01mor\u001b[39;00m _global_backward_hooks\n\u001b[0;32m   1749\u001b[0m         \u001b[38;5;129;01mor\u001b[39;00m _global_forward_hooks \u001b[38;5;129;01mor\u001b[39;00m _global_forward_pre_hooks):\n\u001b[1;32m-> 1750\u001b[0m     \u001b[38;5;28;01mreturn\u001b[39;00m \u001b[43mforward_call\u001b[49m\u001b[43m(\u001b[49m\u001b[38;5;241;43m*\u001b[39;49m\u001b[43margs\u001b[49m\u001b[43m,\u001b[49m\u001b[43m \u001b[49m\u001b[38;5;241;43m*\u001b[39;49m\u001b[38;5;241;43m*\u001b[39;49m\u001b[43mkwargs\u001b[49m\u001b[43m)\u001b[49m\n\u001b[0;32m   1752\u001b[0m result \u001b[38;5;241m=\u001b[39m \u001b[38;5;28;01mNone\u001b[39;00m\n\u001b[0;32m   1753\u001b[0m called_always_called_hooks \u001b[38;5;241m=\u001b[39m \u001b[38;5;28mset\u001b[39m()\n",
      "\u001b[1;31mTypeError\u001b[0m: LinearPertModel.forward() missing 1 required positional argument: 'control_expr'"
     ]
    }
   ],
   "source": [
    "train_dataset = PerturbationDataset(\n",
    "    adata=pert_data.adata,\n",
    "    set2conditions=pert_data.set2conditions,\n",
    "    split='train',\n",
    "    gene_emb_matrix=gene_emb_matrix,\n",
    "    pert_emb_matrix=pert_emb_matrix,\n",
    "    node_map=pert_data.node_map,\n",
    "    node_map_pert=pert_data.node_map_pert\n",
    ")\n",
    "\n",
    "train_loader = DataLoader(train_dataset, batch_size=64, shuffle=True)\n",
    "\n",
    "model = LinearPertModel(input_dim=pert_emb_matrix.shape[1], output_dim=pert_data.adata.shape[1])\n",
    "optimizer = torch.optim.Adam(model.parameters(), lr=1e-3)\n",
    "loss_fn = nn.MSELoss()\n",
    "\n",
    "for epoch in range(30):\n",
    "    total_loss = 0\n",
    "    for p_emb, y in train_loader:\n",
    "        pred = model(p_emb)\n",
    "        loss = loss_fn(pred, y)\n",
    "        loss.backward()\n",
    "        optimizer.step()\n",
    "        optimizer.zero_grad()\n",
    "        total_loss += loss.item()\n",
    "    print(f\"Epoch {epoch+1}, Loss: {total_loss:.4f}\")\n"
   ]
  },
  {
   "cell_type": "code",
   "execution_count": null,
   "metadata": {},
   "outputs": [
    {
     "name": "stdout",
     "output_type": "stream",
     "text": [
      "🔎 Linear Model Evaluation:\n",
      " - MSE: 0.045523\n",
      " - Pearson: 0.881982\n",
      " - Wasserstein-2: 0.067465\n"
     ]
    }
   ],
   "source": [
    "import torch\n",
    "import numpy as np\n",
    "from scipy.stats import pearsonr, wasserstein_distance\n",
    "from torch.utils.data import DataLoader\n",
    "\n",
    "test_dataset = PerturbationDataset(\n",
    "    adata=pert_data.adata,\n",
    "    set2conditions=pert_data.set2conditions,\n",
    "    split='test',\n",
    "    gene_emb_matrix=gene_emb_matrix,\n",
    "    pert_emb_matrix=pert_emb_matrix,\n",
    "    node_map=pert_data.node_map,\n",
    "    node_map_pert=pert_data.node_map_pert\n",
    ")\n",
    "\n",
    "test_loader = DataLoader(test_dataset, batch_size=64, shuffle=False)\n",
    "\n",
    "model.eval()\n",
    "all_preds, all_truth = [], []\n",
    "\n",
    "with torch.no_grad():\n",
    "    for p_emb, y_true in test_loader:\n",
    "        p_emb = p_emb.float()\n",
    "        y_true = y_true.float()\n",
    "        pred = model(p_emb)\n",
    "\n",
    "        all_preds.append(pred.cpu().numpy())\n",
    "        all_truth.append(y_true.cpu().numpy())\n",
    "\n",
    "all_preds = np.concatenate(all_preds, axis=0)\n",
    "all_truth = np.concatenate(all_truth, axis=0)\n",
    "\n",
    "mse = np.mean((all_preds - all_truth) ** 2)\n",
    "\n",
    "pearson = pearsonr(all_preds.flatten(), all_truth.flatten())[0]\n",
    "\n",
    "w2_gene_wise = [\n",
    "    wasserstein_distance(all_preds[:, i], all_truth[:, i])\n",
    "    for i in range(all_preds.shape[1])\n",
    "]\n",
    "w2 = np.mean(w2_gene_wise)\n",
    "\n",
    "print(f\"🔎 Linear Model Evaluation:\")\n",
    "print(f\" - MSE: {mse:.6f}\")\n",
    "print(f\" - Pearson: {pearson:.6f}\")\n",
    "print(f\" - Wasserstein-2: {w2:.6f}\")\n"
   ]
  },
  {
   "cell_type": "code",
   "execution_count": null,
   "metadata": {},
   "outputs": [],
   "source": [
    "import torch\n",
    "import torch.nn as nn\n",
    "import torch.nn.functional as F\n",
    "from torchdiffeq import odeint\n",
    "\n",
    "class ODEF(nn.Module):\n",
    "    def __init__(self, hidden_dim, m_dim):\n",
    "        super().__init__()\n",
    "        self.A = nn.Linear(hidden_dim, hidden_dim, bias=False)\n",
    "        self.B = nn.Linear(hidden_dim, hidden_dim, bias=True)\n",
    "        self.W = nn.Linear(hidden_dim, hidden_dim, bias=False)\n",
    "        self.m_proj = nn.Linear(m_dim, hidden_dim)  # NEW\n",
    "\n",
    "\n",
    "    def forward(self, t, x, m):\n",
    "        # x: (batch, dim)\n",
    "        # m: (batch, dim)\n",
    "        activated = F.relu(self.B(x))           \n",
    "        stimulation = self.A(activated) * m     \n",
    "        decay = self.W(x)                       \n",
    "        return stimulation - decay\n",
    "\n",
    "class ODEWrapper(nn.Module):\n",
    "    def __init__(self, odefunc, m):\n",
    "        super().__init__()\n",
    "        self.odefunc = odefunc\n",
    "        self.m = m  # perturbation embedding to be injected\n",
    "\n",
    "    def forward(self, t, x):\n",
    "        return self.odefunc(t, x, self.m)\n",
    "\n",
    "# Full model\n",
    "class PerturbedNeuralODE(nn.Module):\n",
    "    def __init__(self, input_dim, output_dim, hidden_dim=128, m_dim=128):  \n",
    "        super().__init__()\n",
    "        self.input_layer = nn.Linear(output_dim, hidden_dim)  # project control_expr\n",
    "        self.odefunc = ODEF(hidden_dim, m_dim)                # pass m_dim here\n",
    "        self.output_layer = nn.Linear(hidden_dim, output_dim)\n",
    "\n",
    "\n",
    "    def forward(self, pert_emb, control_expr):\n",
    "        x0 = self.input_layer(pert_emb)           # embed perturbation\n",
    "        m = pert_emb                              # used as modifier in ODE\n",
    "\n",
    "        ode_wrapper = ODEWrapper(self.odefunc, m)\n",
    "        t = torch.tensor([0., 1.], device=x0.device)\n",
    "\n",
    "        out = odeint(ode_wrapper, x0, t, method='dopri5')[1]  # integrate over time\n",
    "        return control_expr + self.output_layer(out)          "
   ]
  },
  {
   "cell_type": "code",
   "execution_count": null,
   "metadata": {},
   "outputs": [
    {
     "name": "stdout",
     "output_type": "stream",
     "text": [
      "(49849, 17775) torch.Size([5045, 64])\n"
     ]
    }
   ],
   "source": [
    "import torch\n",
    "import torch.nn as nn\n",
    "import torch.nn.functional as F\n",
    "from torch.utils.data import DataLoader\n",
    "from torchdiffeq import odeint\n",
    "\n",
    "train_dataset = PerturbationDataset(\n",
    "    adata=pert_data.adata,\n",
    "    set2conditions=pert_data.set2conditions,\n",
    "    split='train',\n",
    "    gene_emb_matrix=gene_emb_matrix,\n",
    "    pert_emb_matrix=pert_emb_matrix,\n",
    "    node_map=pert_data.node_map,\n",
    "    node_map_pert=pert_data.node_map_pert\n",
    ")\n",
    "num_samples = len(train_dataset)\n",
    "\n",
    "\n",
    "\n",
    "control_vector = adata[adata.obs[\"condition\"] == \"ctrl\"].X.mean(axis=0).A1  # (17775,)\n",
    "# control_vector_subset = control_vector[gene_indices]  # (5045,)\n",
    "control_expr = np.tile(control_vector, (num_samples, 1))  # (num_samples, 5045)\n",
    "\n",
    "print(control_expr.shape, gene_emb_matrix.shape)\n",
    "\n",
    "\n",
    "class ODEF(nn.Module):\n",
    "    def __init__(self, dim, m_dim):\n",
    "        super().__init__()\n",
    "        self.A = nn.Linear(dim, dim, bias=False)\n",
    "        self.B = nn.Linear(dim, dim, bias=True)\n",
    "        self.W = nn.Linear(dim, dim, bias=False)\n",
    "        self.m_proj = nn.Linear(m_dim, dim)  \n",
    "    def forward(self, t, x, m):\n",
    "        m_proj = self.m_proj(m)                     \n",
    "        activated = F.relu(self.B(x))                \n",
    "        stimulation = self.A(activated) * m_proj     \n",
    "        decay = self.W(x)                            \n",
    "        return stimulation - decay\n",
    "\n",
    "class ODEWrapper(nn.Module):\n",
    "    def __init__(self, odefunc, m):\n",
    "        super().__init__()\n",
    "        self.odefunc = odefunc\n",
    "        self.m = m\n",
    "\n",
    "    def forward(self, t, x):\n",
    "        return self.odefunc(t, x, self.m)\n",
    "\n",
    "\n",
    "\n",
    "class PerturbedNeuralODE(nn.Module):\n",
    "    def __init__(self, input_dim, output_dim, control_expr_dim, hidden_dim=128):\n",
    "        super().__init__()\n",
    "        self.control_proj = nn.Linear(control_expr_dim, input_dim)  # NEW\n",
    "        self.input_layer = nn.Linear(input_dim, hidden_dim)\n",
    "        self.odefunc = ODEF(hidden_dim, input_dim)\n",
    "        self.output_layer = nn.Linear(hidden_dim, output_dim)\n",
    "\n",
    "\n",
    "    def forward(self, pert_emb, control_expr):\n",
    "        control_proj = self.control_proj(control_expr)  # [batch, input_dim]\n",
    "        x0 = self.input_layer(control_proj)\n",
    "        m = pert_emb\n",
    "        ode_wrapper = ODEWrapper(self.odefunc, m)\n",
    "        t = torch.tensor([0., 1.], device=x0.device)\n",
    "        out = odeint(ode_wrapper, x0, t, method='dopri5')[1]\n",
    "        return self.output_layer(out)\n",
    "\n",
    "\n",
    "train_dataset = PerturbationDataset(\n",
    "    adata=pert_data.adata,\n",
    "    set2conditions=pert_data.set2conditions,\n",
    "    split='train',\n",
    "    gene_emb_matrix=gene_emb_matrix,\n",
    "    pert_emb_matrix=pert_emb_matrix,\n",
    "    node_map=pert_data.node_map,\n",
    "    node_map_pert=pert_data.node_map_pert\n",
    ")\n",
    "\n",
    "train_loader = DataLoader(train_dataset, batch_size=64, shuffle=True)\n",
    "\n",
    "node_model = PerturbedNeuralODE(\n",
    "    input_dim=pert_emb_matrix.shape[1],               # perturbation embedding dim\n",
    "    output_dim=pert_data.adata.shape[1],              # gene count (output size)\n",
    "    control_expr_dim=pert_data.adata.shape[1],        # input dimension of control_expr\n",
    "    hidden_dim=128\n",
    ")\n",
    "\n",
    "\n",
    "optimizer = torch.optim.Adam(node_model.parameters(), lr=1e-3)\n",
    "loss_fn = nn.MSELoss()\n",
    "\n",
    "\n",
    "for epoch in range(10):\n",
    "    node_model.train()\n",
    "    total_loss = 0\n",
    "    for i, (pert_emb, y) in enumerate(train_loader):\n",
    "        pert_emb = pert_emb.float()\n",
    "        y = y.float()\n",
    "        control_expr_tensor = torch.tensor(control_expr, dtype=torch.float32)\n",
    "        batch_start = i * train_loader.batch_size\n",
    "        batch_end = batch_start + len(pert_emb)\n",
    "        control_expr_batch = control_expr_tensor[batch_start:batch_end]\n",
    "        pred = node_model(pert_emb, control_expr_batch)\n",
    "\n",
    "        loss = loss_fn(pred, y)\n",
    "        loss.backward()\n",
    "        optimizer.step()\n",
    "        optimizer.zero_grad()\n",
    "\n",
    "        total_loss += loss.item()\n",
    "    print(f\"[Epoch {epoch+1}] Loss: {total_loss:.4f}\")\n"
   ]
  }
 ],
 "metadata": {
  "kernelspec": {
   "display_name": "nlp",
   "language": "python",
   "name": "python3"
  },
  "language_info": {
   "codemirror_mode": {
    "name": "ipython",
    "version": 3
   },
   "file_extension": ".py",
   "mimetype": "text/x-python",
   "name": "python",
   "nbconvert_exporter": "python",
   "pygments_lexer": "ipython3",
   "version": "3.12.9"
  }
 },
 "nbformat": 4,
 "nbformat_minor": 2
}
